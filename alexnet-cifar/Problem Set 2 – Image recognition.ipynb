{
 "cells": [
  {
   "cell_type": "code",
   "execution_count": 2,
   "metadata": {},
   "outputs": [
    {
     "data": {
      "text/html": [
       "<style>.container { width:90% !important; }</style>"
      ],
      "text/plain": [
       "<IPython.core.display.HTML object>"
      ]
     },
     "metadata": {},
     "output_type": "display_data"
    }
   ],
   "source": [
    "from IPython.core.display import display, HTML\n",
    "display(HTML(\"<style>.container { width:90% !important; }</style>\"))"
   ]
  },
  {
   "cell_type": "markdown",
   "metadata": {},
   "source": [
    "# Convolutional neural networks"
   ]
  },
  {
   "cell_type": "markdown",
   "metadata": {},
   "source": [
    "In class, we have briefly reviewed the idea of learning good features directly from data and went through the concept of convolutional neural networks along with few architectures.\n",
    "\n",
    "Until recently, building convolutional neural networks was tough. There was no high-level tools for that, you would be required to understand all the internal mechanics of the model and its operations.\n",
    "\n",
    "Today, due to the high-level tools such as Keras and TensorFlow, everybody can build a convolutional neural network and put it to work without diving deep into them. What used to be a one-month project became a few hours exercise.\n"
   ]
  },
  {
   "cell_type": "code",
   "execution_count": 62,
   "metadata": {},
   "outputs": [],
   "source": [
    "import os\n",
    "import pickle\n",
    "import numpy as np\n",
    "import matplotlib.pyplot as plt\n",
    "\n",
    "import plaidml.keras\n",
    "plaidml.keras.install_backend()\n",
    "\n",
    "import keras\n",
    "\n",
    "from keras.models import Sequential\n",
    "from keras.layers import Dense\n",
    "from keras.layers import Dropout\n",
    "from keras.layers import Conv2D\n",
    "from keras.layers import MaxPooling2D\n",
    "from keras.layers import Lambda\n",
    "from keras.layers import Flatten\n",
    "from keras.layers import BatchNormalization\n",
    "\n",
    "from keras.optimizers import SGD\n",
    "\n",
    "from keras.utils import np_utils\n",
    "\n",
    "from keras.backend import resize_images\n",
    "\n",
    "from keras.datasets import cifar10"
   ]
  },
  {
   "cell_type": "markdown",
   "metadata": {},
   "source": [
    "## Loading the images"
   ]
  },
  {
   "cell_type": "code",
   "execution_count": 38,
   "metadata": {},
   "outputs": [],
   "source": [
    "(train_images, train_labels), (cv_images, cv_labels) = cifar10.load_data()\n",
    "\n",
    "train_images = np.array(train_images)\n",
    "train_labels = np_utils.to_categorical(np.array(train_labels), 10)\n",
    "\n",
    "cv_images = np.array(cv_images)\n",
    "cv_labels = np_utils.to_categorical(np.array(cv_labels), 10)"
   ]
  },
  {
   "cell_type": "code",
   "execution_count": 39,
   "metadata": {},
   "outputs": [
    {
     "name": "stdout",
     "output_type": "stream",
     "text": [
      "(50000, 32, 32, 3)\n",
      "50000\n"
     ]
    }
   ],
   "source": [
    "print(train_images.shape)\n",
    "print(len(train_labels))"
   ]
  },
  {
   "cell_type": "code",
   "execution_count": 40,
   "metadata": {},
   "outputs": [
    {
     "name": "stdout",
     "output_type": "stream",
     "text": [
      "(10000, 32, 32, 3)\n",
      "10000\n"
     ]
    }
   ],
   "source": [
    "print(cv_images.shape)\n",
    "print(len(cv_labels))"
   ]
  },
  {
   "cell_type": "code",
   "execution_count": 41,
   "metadata": {},
   "outputs": [
    {
     "name": "stdout",
     "output_type": "stream",
     "text": [
      "[[0. 0. 0. 0. 0. 0. 1. 0. 0. 0.]\n",
      " [0. 0. 0. 0. 0. 0. 0. 0. 0. 1.]\n",
      " [0. 0. 0. 0. 0. 0. 0. 0. 0. 1.]\n",
      " [0. 0. 0. 0. 1. 0. 0. 0. 0. 0.]\n",
      " [0. 1. 0. 0. 0. 0. 0. 0. 0. 0.]\n",
      " [0. 1. 0. 0. 0. 0. 0. 0. 0. 0.]\n",
      " [0. 0. 1. 0. 0. 0. 0. 0. 0. 0.]\n",
      " [0. 0. 0. 0. 0. 0. 0. 1. 0. 0.]\n",
      " [0. 0. 0. 0. 0. 0. 0. 0. 1. 0.]\n",
      " [0. 0. 0. 1. 0. 0. 0. 0. 0. 0.]]\n"
     ]
    }
   ],
   "source": [
    "print(train_labels[0:10])"
   ]
  },
  {
   "cell_type": "code",
   "execution_count": 42,
   "metadata": {},
   "outputs": [],
   "source": [
    "def show_image(np_array):\n",
    "    %matplotlib inline\n",
    "    plt.figure()\n",
    "    plt.imshow(np_array)"
   ]
  },
  {
   "cell_type": "code",
   "execution_count": 43,
   "metadata": {},
   "outputs": [],
   "source": [
    "def show_example(data_set, labels, example_index):\n",
    "    show_image(data_set[example_index])\n",
    "    print('Label: ', labels[example_index])"
   ]
  },
  {
   "cell_type": "code",
   "execution_count": 44,
   "metadata": {},
   "outputs": [
    {
     "name": "stdout",
     "output_type": "stream",
     "text": [
      "Label:  [0. 0. 0. 0. 0. 0. 1. 0. 0. 0.]\n"
     ]
    },
    {
     "data": {
      "image/png": "[encoded data removed]",
      "text/plain": [
       "<Figure size 432x288 with 1 Axes>"
      ]
     },
     "metadata": {},
     "output_type": "display_data"
    }
   ],
   "source": [
    "show_example(train_images, train_labels, example_index = 0)"
   ]
  },
  {
   "cell_type": "code",
   "execution_count": 45,
   "metadata": {},
   "outputs": [
    {
     "name": "stdout",
     "output_type": "stream",
     "text": [
      "Label:  [0. 0. 0. 1. 0. 0. 0. 0. 0. 0.]\n"
     ]
    },
    {
     "data": {
      "image/png": "[encoded data removed]",
      "text/plain": [
       "<Figure size 432x288 with 1 Axes>"
      ]
     },
     "metadata": {},
     "output_type": "display_data"
    }
   ],
   "source": [
    "show_example(cv_images, cv_labels, example_index = 0)"
   ]
  },
  {
   "cell_type": "markdown",
   "metadata": {},
   "source": [
    "## Building AlexNet"
   ]
  },
  {
   "cell_type": "markdown",
   "metadata": {},
   "source": [
    "In 2012 a convolutional neural network called AlexNet won ImageNet competition. \n",
    "\n",
    "Go through an [original AlexNet paper](https://papers.nips.cc/paper/4824-imagenet-classification-with-deep-convolutional-neural-networks.pdf) to investigate the architecture. Next, investigate the [basics of Keras](https://keras.io/#keras-the-python-deep-learning-library). We will use it with TensorFlow backend.\n",
    "\n",
    "You are also encouraged to go through some CNN tutorial for Keras. There is a number of them online (for example, [this](https://elitedatascience.com/keras-tutorial-deep-learning-in-python) or [this](https://machinelearningmastery.com/handwritten-digit-recognition-using-convolutional-neural-networks-python-keras/)).\n",
    "Now, build AlexNex network with Keras for object recognition. Note that standard AlexNet works with 224x224 input images. The dataset you are going to use for this problem is 32x32."
   ]
  },
  {
   "cell_type": "code",
   "execution_count": 48,
   "metadata": {},
   "outputs": [
    {
     "name": "stdout",
     "output_type": "stream",
     "text": [
      "_________________________________________________________________\n",
      "Layer (type)                 Output Shape              Param #   \n",
      "=================================================================\n",
      "lambda_17 (Lambda)           (None, 54, 54, 3)         0         \n",
      "_________________________________________________________________\n",
      "conv2d_21 (Conv2D)           (None, 16, 16, 48)        3648      \n",
      "_________________________________________________________________\n",
      "max_pooling2d_9 (MaxPooling2 (None, 8, 8, 48)          0         \n",
      "_________________________________________________________________\n",
      "conv2d_22 (Conv2D)           (None, 8, 8, 64)          76864     \n",
      "_________________________________________________________________\n",
      "conv2d_23 (Conv2D)           (None, 8, 8, 96)          55392     \n",
      "_________________________________________________________________\n",
      "conv2d_24 (Conv2D)           (None, 8, 8, 96)          83040     \n",
      "_________________________________________________________________\n",
      "conv2d_25 (Conv2D)           (None, 8, 8, 64)          55360     \n",
      "_________________________________________________________________\n",
      "max_pooling2d_10 (MaxPooling (None, 4, 4, 64)          0         \n",
      "_________________________________________________________________\n",
      "flatten_5 (Flatten)          (None, 1024)              0         \n",
      "_________________________________________________________________\n",
      "dense_13 (Dense)             (None, 256)               262400    \n",
      "_________________________________________________________________\n",
      "dense_14 (Dense)             (None, 256)               65792     \n",
      "_________________________________________________________________\n",
      "dense_15 (Dense)             (None, 10)                2570      \n",
      "=================================================================\n",
      "Total params: 605,066\n",
      "Trainable params: 605,066\n",
      "Non-trainable params: 0\n",
      "_________________________________________________________________\n",
      "None\n"
     ]
    }
   ],
   "source": [
    "model = Sequential()\n",
    "\n",
    "# Layer 0\n",
    "# resize images to have the same input as in the AlexNet\n",
    "model.add(Lambda(lambda image: resize_images(image, height_factor=7, width_factor=7, data_format='channels_last'), input_shape=(32,32,3), output_shape=(54,54,3)))\n",
    "\n",
    "# AlexNet layers description here: https://sushscience.wordpress.com/2016/12/04/understanding-alexnet/\n",
    "# Keras layers docs: https://keras.io/layers/core/\n",
    "\n",
    "# Layer 1\n",
    "model.add(Conv2D(filters=48, kernel_size=(11,11), strides=4, activation='relu', padding='same'))\n",
    "\n",
    "# Layer 2\n",
    "model.add(Conv2D(filters=128, kernel_size=(5,5), activation='relu', padding='same'))\n",
    "\n",
    "# Layer 3\n",
    "model.add(MaxPooling2D(pool_size=(2,2)))\n",
    "model.add(Conv2D(filters=192, kernel_size=(3,3), activation='relu', padding='same'))\n",
    "\n",
    "# Layer 4\n",
    "model.add(Conv2D(filters=192, kernel_size=(3,3), activation='relu', padding='same'))\n",
    "\n",
    "# Layer 5\n",
    "model.add(Conv2D(filters=128, kernel_size=(3,3), activation='relu', padding='same'))\n",
    "\n",
    "# Layer 6\n",
    "model.add(MaxPooling2D(pool_size=(2,2)))\n",
    "model.add(Flatten())\n",
    "model.add(Dense(2048, activation = 'relu'))\n",
    "\n",
    "# Layer 7\n",
    "model.add(Dense(2048, activation = 'relu'))\n",
    "\n",
    "# Layer 8\n",
    "model.add(Dense(10, activation = 'softmax'))\n",
    "\n",
    "print(model.summary())\n",
    "\n",
    "model.compile(loss=keras.losses.categorical_crossentropy, optimizer='adam', metrics=['accuracy'])"
   ]
  },
  {
   "cell_type": "markdown",
   "metadata": {},
   "source": [
    "## Training AlexNet"
   ]
  },
  {
   "cell_type": "markdown",
   "metadata": {},
   "source": [
    "Use training set for training the network to recognize objects. You might want to use RMSProp optimizer to speed up the training.\n",
    "\n",
    "Convolutional networks require a lot of computing power for training. Typical setup for training CNN is to use GPU, however, in this problem you are not required to do so. CPU will be fine as well.\n",
    "\n",
    "If you are using CPU for this subproblem, training process might be slow. You can stop it manually as soon as you get meaningful results.\n",
    "\n",
    "Report the results on the training and cross-validation sets. The report should contain the training logs."
   ]
  },
  {
   "cell_type": "code",
   "execution_count": 49,
   "metadata": {
    "scrolled": false
   },
   "outputs": [
    {
     "name": "stdout",
     "output_type": "stream",
     "text": [
      "Train on 50000 samples, validate on 10000 samples\n",
      "Epoch 1/100\n",
      "50000/50000 [==============================] - 29s 574us/step - loss: 1.6539 - acc: 0.4049 - val_loss: 1.4542 - val_acc: 0.4832\n",
      "Epoch 2/100\n",
      "50000/50000 [==============================] - 28s 555us/step - loss: 1.2915 - acc: 0.5400 - val_loss: 1.2476 - val_acc: 0.5457\n",
      "Epoch 3/100\n",
      "50000/50000 [==============================] - 28s 556us/step - loss: 1.1636 - acc: 0.5878 - val_loss: 1.2349 - val_acc: 0.5659\n",
      "Epoch 4/100\n",
      "50000/50000 [==============================] - 27s 550us/step - loss: 1.0616 - acc: 0.6276 - val_loss: 1.1818 - val_acc: 0.5844\n",
      "Epoch 5/100\n",
      "50000/50000 [==============================] - 28s 562us/step - loss: 0.9888 - acc: 0.6513 - val_loss: 1.0597 - val_acc: 0.6342\n",
      "Epoch 6/100\n",
      "50000/50000 [==============================] - 28s 560us/step - loss: 0.9344 - acc: 0.6705 - val_loss: 1.0959 - val_acc: 0.6247\n",
      "Epoch 7/100\n",
      "50000/50000 [==============================] - 28s 554us/step - loss: 0.8877 - acc: 0.6906 - val_loss: 1.1022 - val_acc: 0.6201\n",
      "Epoch 8/100\n",
      "50000/50000 [==============================] - 28s 556us/step - loss: 0.8464 - acc: 0.7032 - val_loss: 1.0804 - val_acc: 0.6386\n",
      "Epoch 9/100\n",
      "50000/50000 [==============================] - 28s 560us/step - loss: 0.8044 - acc: 0.7160 - val_loss: 1.0441 - val_acc: 0.6381\n",
      "Epoch 10/100\n",
      "50000/50000 [==============================] - 28s 567us/step - loss: 0.7663 - acc: 0.7293 - val_loss: 1.0931 - val_acc: 0.6428\n",
      "Epoch 11/100\n",
      "50000/50000 [==============================] - 28s 552us/step - loss: 0.7404 - acc: 0.7393 - val_loss: 1.0626 - val_acc: 0.6490\n",
      "Epoch 12/100\n",
      "50000/50000 [==============================] - 28s 565us/step - loss: 0.7005 - acc: 0.7539 - val_loss: 1.1432 - val_acc: 0.6357\n",
      "Epoch 13/100\n",
      "50000/50000 [==============================] - 28s 567us/step - loss: 0.6824 - acc: 0.7608 - val_loss: 1.1566 - val_acc: 0.6484\n",
      "Epoch 14/100\n",
      "50000/50000 [==============================] - 28s 566us/step - loss: 0.6486 - acc: 0.7741 - val_loss: 1.1170 - val_acc: 0.6519\n",
      "Epoch 15/100\n",
      "50000/50000 [==============================] - 28s 565us/step - loss: 0.6259 - acc: 0.7816 - val_loss: 1.1725 - val_acc: 0.6452\n",
      "Epoch 16/100\n",
      "50000/50000 [==============================] - 28s 558us/step - loss: 0.6066 - acc: 0.7882 - val_loss: 1.2011 - val_acc: 0.6500\n",
      "Epoch 17/100\n",
      "50000/50000 [==============================] - 28s 562us/step - loss: 0.5682 - acc: 0.8013 - val_loss: 1.2023 - val_acc: 0.6502\n",
      "Epoch 18/100\n",
      "50000/50000 [==============================] - 27s 548us/step - loss: 0.5496 - acc: 0.8122 - val_loss: 1.2755 - val_acc: 0.6495\n",
      "Epoch 19/100\n",
      "50000/50000 [==============================] - 28s 553us/step - loss: 0.5286 - acc: 0.8164 - val_loss: 1.2527 - val_acc: 0.6423\n",
      "Epoch 20/100\n",
      "50000/50000 [==============================] - 28s 552us/step - loss: 0.5048 - acc: 0.8247 - val_loss: 1.2371 - val_acc: 0.6473\n",
      "Epoch 21/100\n",
      "50000/50000 [==============================] - 28s 554us/step - loss: 0.4948 - acc: 0.8305 - val_loss: 1.3148 - val_acc: 0.6418\n",
      "Epoch 22/100\n",
      "50000/50000 [==============================] - 28s 553us/step - loss: 0.4727 - acc: 0.8366 - val_loss: 1.4079 - val_acc: 0.6481\n",
      "Epoch 23/100\n",
      "50000/50000 [==============================] - 28s 552us/step - loss: 0.4630 - acc: 0.8427 - val_loss: 1.4274 - val_acc: 0.6283\n",
      "Epoch 24/100\n",
      "50000/50000 [==============================] - 28s 558us/step - loss: 0.4312 - acc: 0.8534 - val_loss: 1.5318 - val_acc: 0.6453\n",
      "Epoch 25/100\n",
      "50000/50000 [==============================] - 28s 553us/step - loss: 0.4334 - acc: 0.8527 - val_loss: 1.3728 - val_acc: 0.6382\n",
      "Epoch 26/100\n",
      "14400/50000 [=======>......................] - ETA: 18s - loss: 0.3612 - acc: 0.8779"
     ]
    },
    {
     "ename": "KeyboardInterrupt",
     "evalue": "",
     "output_type": "error",
     "traceback": [
      "\u001b[0;31m---------------------------------------------------------------------------\u001b[0m",
      "\u001b[0;31mKeyboardInterrupt\u001b[0m                         Traceback (most recent call last)",
      "\u001b[0;32m<ipython-input-49-8c328b522973>\u001b[0m in \u001b[0;36m<module>\u001b[0;34m()\u001b[0m\n\u001b[0;32m----> 1\u001b[0;31m \u001b[0mmodel\u001b[0m\u001b[0;34m.\u001b[0m\u001b[0mfit\u001b[0m\u001b[0;34m(\u001b[0m\u001b[0mtrain_images\u001b[0m\u001b[0;34m,\u001b[0m \u001b[0mtrain_labels\u001b[0m\u001b[0;34m,\u001b[0m \u001b[0mbatch_size\u001b[0m\u001b[0;34m=\u001b[0m\u001b[0;36m64\u001b[0m\u001b[0;34m,\u001b[0m \u001b[0mepochs\u001b[0m\u001b[0;34m=\u001b[0m\u001b[0;36m100\u001b[0m\u001b[0;34m,\u001b[0m \u001b[0minitial_epoch\u001b[0m\u001b[0;34m=\u001b[0m\u001b[0;36m0\u001b[0m\u001b[0;34m,\u001b[0m \u001b[0mverbose\u001b[0m\u001b[0;34m=\u001b[0m\u001b[0;36m1\u001b[0m\u001b[0;34m,\u001b[0m \u001b[0mvalidation_data\u001b[0m\u001b[0;34m=\u001b[0m\u001b[0;34m(\u001b[0m\u001b[0mcv_images\u001b[0m\u001b[0;34m,\u001b[0m \u001b[0mcv_labels\u001b[0m\u001b[0;34m)\u001b[0m\u001b[0;34m)\u001b[0m\u001b[0;34m\u001b[0m\u001b[0;34m\u001b[0m\u001b[0m\n\u001b[0m",
      "\u001b[0;32m/Library/Frameworks/Python.framework/Versions/3.6/lib/python3.6/site-packages/keras/engine/training.py\u001b[0m in \u001b[0;36mfit\u001b[0;34m(self, x, y, batch_size, epochs, verbose, callbacks, validation_split, validation_data, shuffle, class_weight, sample_weight, initial_epoch, steps_per_epoch, validation_steps, **kwargs)\u001b[0m\n\u001b[1;32m   1037\u001b[0m                                         \u001b[0minitial_epoch\u001b[0m\u001b[0;34m=\u001b[0m\u001b[0minitial_epoch\u001b[0m\u001b[0;34m,\u001b[0m\u001b[0;34m\u001b[0m\u001b[0;34m\u001b[0m\u001b[0m\n\u001b[1;32m   1038\u001b[0m                                         \u001b[0msteps_per_epoch\u001b[0m\u001b[0;34m=\u001b[0m\u001b[0msteps_per_epoch\u001b[0m\u001b[0;34m,\u001b[0m\u001b[0;34m\u001b[0m\u001b[0;34m\u001b[0m\u001b[0m\n\u001b[0;32m-> 1039\u001b[0;31m                                         validation_steps=validation_steps)\n\u001b[0m\u001b[1;32m   1040\u001b[0m \u001b[0;34m\u001b[0m\u001b[0m\n\u001b[1;32m   1041\u001b[0m     def evaluate(self, x=None, y=None,\n",
      "\u001b[0;32m/Library/Frameworks/Python.framework/Versions/3.6/lib/python3.6/site-packages/keras/engine/training_arrays.py\u001b[0m in \u001b[0;36mfit_loop\u001b[0;34m(model, f, ins, out_labels, batch_size, epochs, verbose, callbacks, val_f, val_ins, shuffle, callback_metrics, initial_epoch, steps_per_epoch, validation_steps)\u001b[0m\n\u001b[1;32m    197\u001b[0m                     \u001b[0mins_batch\u001b[0m\u001b[0;34m[\u001b[0m\u001b[0mi\u001b[0m\u001b[0;34m]\u001b[0m \u001b[0;34m=\u001b[0m \u001b[0mins_batch\u001b[0m\u001b[0;34m[\u001b[0m\u001b[0mi\u001b[0m\u001b[0;34m]\u001b[0m\u001b[0;34m.\u001b[0m\u001b[0mtoarray\u001b[0m\u001b[0;34m(\u001b[0m\u001b[0;34m)\u001b[0m\u001b[0;34m\u001b[0m\u001b[0;34m\u001b[0m\u001b[0m\n\u001b[1;32m    198\u001b[0m \u001b[0;34m\u001b[0m\u001b[0m\n\u001b[0;32m--> 199\u001b[0;31m                 \u001b[0mouts\u001b[0m \u001b[0;34m=\u001b[0m \u001b[0mf\u001b[0m\u001b[0;34m(\u001b[0m\u001b[0mins_batch\u001b[0m\u001b[0;34m)\u001b[0m\u001b[0;34m\u001b[0m\u001b[0;34m\u001b[0m\u001b[0m\n\u001b[0m\u001b[1;32m    200\u001b[0m                 \u001b[0mouts\u001b[0m \u001b[0;34m=\u001b[0m \u001b[0mto_list\u001b[0m\u001b[0;34m(\u001b[0m\u001b[0mouts\u001b[0m\u001b[0;34m)\u001b[0m\u001b[0;34m\u001b[0m\u001b[0;34m\u001b[0m\u001b[0m\n\u001b[1;32m    201\u001b[0m                 \u001b[0;32mfor\u001b[0m \u001b[0ml\u001b[0m\u001b[0;34m,\u001b[0m \u001b[0mo\u001b[0m \u001b[0;32min\u001b[0m \u001b[0mzip\u001b[0m\u001b[0;34m(\u001b[0m\u001b[0mout_labels\u001b[0m\u001b[0;34m,\u001b[0m \u001b[0mouts\u001b[0m\u001b[0;34m)\u001b[0m\u001b[0;34m:\u001b[0m\u001b[0;34m\u001b[0m\u001b[0;34m\u001b[0m\u001b[0m\n",
      "\u001b[0;32m/Library/Frameworks/Python.framework/Versions/3.6/lib/python3.6/site-packages/plaidml/keras/backend.py\u001b[0m in \u001b[0;36m__call__\u001b[0;34m(self, inputs)\u001b[0m\n\u001b[1;32m    163\u001b[0m                 \u001b[0mval\u001b[0m \u001b[0;34m=\u001b[0m \u001b[0mplaidml\u001b[0m\u001b[0;34m.\u001b[0m\u001b[0mReal\u001b[0m\u001b[0;34m(\u001b[0m\u001b[0mval\u001b[0m\u001b[0;34m)\u001b[0m\u001b[0;34m\u001b[0m\u001b[0;34m\u001b[0m\u001b[0m\n\u001b[1;32m    164\u001b[0m             \u001b[0;32melse\u001b[0m\u001b[0;34m:\u001b[0m\u001b[0;34m\u001b[0m\u001b[0;34m\u001b[0m\u001b[0m\n\u001b[0;32m--> 165\u001b[0;31m                 \u001b[0mval\u001b[0m \u001b[0;34m=\u001b[0m \u001b[0mvariable\u001b[0m\u001b[0;34m(\u001b[0m\u001b[0mval\u001b[0m\u001b[0;34m,\u001b[0m \u001b[0mdtype\u001b[0m\u001b[0;34m=\u001b[0m\u001b[0mself\u001b[0m\u001b[0;34m.\u001b[0m\u001b[0m_input_types\u001b[0m\u001b[0;34m[\u001b[0m\u001b[0mname\u001b[0m\u001b[0;34m]\u001b[0m\u001b[0;34m)\u001b[0m\u001b[0;34m.\u001b[0m\u001b[0mvar\u001b[0m\u001b[0;34m\u001b[0m\u001b[0;34m\u001b[0m\u001b[0m\n\u001b[0m\u001b[1;32m    166\u001b[0m             \u001b[0mself\u001b[0m\u001b[0;34m.\u001b[0m\u001b[0m_invoker\u001b[0m\u001b[0;34m.\u001b[0m\u001b[0mset_input\u001b[0m\u001b[0;34m(\u001b[0m\u001b[0mname\u001b[0m\u001b[0;34m,\u001b[0m \u001b[0mval\u001b[0m\u001b[0;34m)\u001b[0m\u001b[0;34m\u001b[0m\u001b[0;34m\u001b[0m\u001b[0m\n\u001b[1;32m    167\u001b[0m \u001b[0;34m\u001b[0m\u001b[0m\n",
      "\u001b[0;32m/Library/Frameworks/Python.framework/Versions/3.6/lib/python3.6/site-packages/plaidml/keras/backend.py\u001b[0m in \u001b[0;36mvariable\u001b[0;34m(value, dtype, name, constraint)\u001b[0m\n\u001b[1;32m   1667\u001b[0m         _device(), plaidml.Shape(_ctx, ptile.convert_np_dtype_to_pml(dtype), *value.shape))\n\u001b[1;32m   1668\u001b[0m     \u001b[0;32mwith\u001b[0m \u001b[0mtensor\u001b[0m\u001b[0;34m.\u001b[0m\u001b[0mmmap_discard\u001b[0m\u001b[0;34m(\u001b[0m\u001b[0m_ctx\u001b[0m\u001b[0;34m)\u001b[0m \u001b[0;32mas\u001b[0m \u001b[0mview\u001b[0m\u001b[0;34m:\u001b[0m\u001b[0;34m\u001b[0m\u001b[0;34m\u001b[0m\u001b[0m\n\u001b[0;32m-> 1669\u001b[0;31m         \u001b[0mview\u001b[0m\u001b[0;34m.\u001b[0m\u001b[0mcopy_from_ndarray\u001b[0m\u001b[0;34m(\u001b[0m\u001b[0mvalue\u001b[0m\u001b[0;34m)\u001b[0m\u001b[0;34m\u001b[0m\u001b[0;34m\u001b[0m\u001b[0m\n\u001b[0m\u001b[1;32m   1670\u001b[0m         \u001b[0mview\u001b[0m\u001b[0;34m.\u001b[0m\u001b[0mwriteback\u001b[0m\u001b[0;34m(\u001b[0m\u001b[0;34m)\u001b[0m\u001b[0;34m\u001b[0m\u001b[0;34m\u001b[0m\u001b[0m\n\u001b[1;32m   1671\u001b[0m     return ptile.Value.from_var(tensor, value.shape, ptile.convert_np_dtype_to_pml(dtype),\n",
      "\u001b[0;32m/Library/Frameworks/Python.framework/Versions/3.6/lib/python3.6/site-packages/plaidml/__init__.py\u001b[0m in \u001b[0;36mcopy_from_ndarray\u001b[0;34m(self, src)\u001b[0m\n\u001b[1;32m   1171\u001b[0m                 \u001b[0msrc\u001b[0m \u001b[0;34m=\u001b[0m \u001b[0msrc\u001b[0m\u001b[0;34m.\u001b[0m\u001b[0mastype\u001b[0m\u001b[0;34m(\u001b[0m\u001b[0;34m'float16'\u001b[0m\u001b[0;34m)\u001b[0m\u001b[0;34m\u001b[0m\u001b[0;34m\u001b[0m\u001b[0m\n\u001b[1;32m   1172\u001b[0m             \u001b[0msrc\u001b[0m \u001b[0;34m=\u001b[0m \u001b[0msrc\u001b[0m\u001b[0;34m.\u001b[0m\u001b[0mview\u001b[0m\u001b[0;34m(\u001b[0m\u001b[0mdtype\u001b[0m\u001b[0;34m=\u001b[0m\u001b[0;34m'uint16'\u001b[0m\u001b[0;34m)\u001b[0m\u001b[0;34m\u001b[0m\u001b[0;34m\u001b[0m\u001b[0m\n\u001b[0;32m-> 1173\u001b[0;31m         \u001b[0mdst\u001b[0m \u001b[0;34m=\u001b[0m \u001b[0mnp\u001b[0m\u001b[0;34m.\u001b[0m\u001b[0mctypeslib\u001b[0m\u001b[0;34m.\u001b[0m\u001b[0mas_array\u001b[0m\u001b[0;34m(\u001b[0m\u001b[0mself\u001b[0m\u001b[0;34m.\u001b[0m\u001b[0m_base\u001b[0m\u001b[0;34m,\u001b[0m \u001b[0mshape\u001b[0m\u001b[0;34m=\u001b[0m\u001b[0msrc\u001b[0m\u001b[0;34m.\u001b[0m\u001b[0mshape\u001b[0m\u001b[0;34m)\u001b[0m\u001b[0;34m\u001b[0m\u001b[0;34m\u001b[0m\u001b[0m\n\u001b[0m\u001b[1;32m   1174\u001b[0m         \u001b[0mnp\u001b[0m\u001b[0;34m.\u001b[0m\u001b[0mcopyto\u001b[0m\u001b[0;34m(\u001b[0m\u001b[0mdst\u001b[0m\u001b[0;34m,\u001b[0m \u001b[0msrc\u001b[0m\u001b[0;34m)\u001b[0m\u001b[0;34m\u001b[0m\u001b[0;34m\u001b[0m\u001b[0m\n\u001b[1;32m   1175\u001b[0m \u001b[0;34m\u001b[0m\u001b[0m\n",
      "\u001b[0;32m/Library/Frameworks/Python.framework/Versions/3.6/lib/python3.6/site-packages/numpy/ctypeslib.py\u001b[0m in \u001b[0;36mas_array\u001b[0;34m(obj, shape)\u001b[0m\n\u001b[1;32m    515\u001b[0m                     'pointer')\n\u001b[1;32m    516\u001b[0m             \u001b[0mp_arr_type\u001b[0m \u001b[0;34m=\u001b[0m \u001b[0mctypes\u001b[0m\u001b[0;34m.\u001b[0m\u001b[0mPOINTER\u001b[0m\u001b[0;34m(\u001b[0m\u001b[0m_ctype_ndarray\u001b[0m\u001b[0;34m(\u001b[0m\u001b[0mobj\u001b[0m\u001b[0;34m.\u001b[0m\u001b[0m_type_\u001b[0m\u001b[0;34m,\u001b[0m \u001b[0mshape\u001b[0m\u001b[0;34m)\u001b[0m\u001b[0;34m)\u001b[0m\u001b[0;34m\u001b[0m\u001b[0;34m\u001b[0m\u001b[0m\n\u001b[0;32m--> 517\u001b[0;31m             \u001b[0mobj\u001b[0m \u001b[0;34m=\u001b[0m \u001b[0mctypes\u001b[0m\u001b[0;34m.\u001b[0m\u001b[0mcast\u001b[0m\u001b[0;34m(\u001b[0m\u001b[0mobj\u001b[0m\u001b[0;34m,\u001b[0m \u001b[0mp_arr_type\u001b[0m\u001b[0;34m)\u001b[0m\u001b[0;34m.\u001b[0m\u001b[0mcontents\u001b[0m\u001b[0;34m\u001b[0m\u001b[0;34m\u001b[0m\u001b[0m\n\u001b[0m\u001b[1;32m    518\u001b[0m \u001b[0;34m\u001b[0m\u001b[0m\n\u001b[1;32m    519\u001b[0m         \u001b[0;32mreturn\u001b[0m \u001b[0marray\u001b[0m\u001b[0;34m(\u001b[0m\u001b[0mobj\u001b[0m\u001b[0;34m,\u001b[0m \u001b[0mcopy\u001b[0m\u001b[0;34m=\u001b[0m\u001b[0;32mFalse\u001b[0m\u001b[0;34m)\u001b[0m\u001b[0;34m\u001b[0m\u001b[0;34m\u001b[0m\u001b[0m\n",
      "\u001b[0;31mKeyboardInterrupt\u001b[0m: "
     ]
    }
   ],
   "source": [
    "model.fit(train_images, train_labels, batch_size=64, epochs=100, initial_epoch=0, verbose=1, validation_data=(cv_images, cv_labels))"
   ]
  },
  {
   "cell_type": "code",
   "execution_count": null,
   "metadata": {},
   "outputs": [],
   "source": [
    "# save and load models: https://machinelearningmastery.com/save-load-keras-deep-learning-models/\n",
    "\n",
    "def save_model(model, model_name):\n",
    "    # serialize model to JSON\n",
    "    model_json = model.to_json()\n",
    "    with open(model_name + \".json\", \"w\") as json_file:\n",
    "        json_file.write(model_json)\n",
    "    # serialize weights to HDF5\n",
    "    model.save_weights(model_name + \".h5\")\n",
    "    print('Saved', model_name, 'to disk')"
   ]
  },
  {
   "cell_type": "code",
   "execution_count": null,
   "metadata": {},
   "outputs": [],
   "source": [
    "save_model(model, 'model')"
   ]
  },
  {
   "cell_type": "markdown",
   "metadata": {},
   "source": [
    "### Summary\n",
    "The best accuracy on the test set is 0.6167 (epoch 33)."
   ]
  },
  {
   "cell_type": "markdown",
   "metadata": {},
   "source": [
    "## Improving AlexNet"
   ]
  },
  {
   "cell_type": "markdown",
   "metadata": {},
   "source": [
    "As you can see, AlexNet does not work very well on such a small dataset. Recall what you have learned from this class to improve its performance. You can also take a look at the [Dropout technique](https://www.cs.toronto.edu/~hinton/absps/JMLRdropout.pdf) and its [implementation in Keras](https://keras.io/layers/core/#dropout). "
   ]
  },
  {
   "cell_type": "code",
   "execution_count": 76,
   "metadata": {},
   "outputs": [
    {
     "name": "stdout",
     "output_type": "stream",
     "text": [
      "_________________________________________________________________\n",
      "Layer (type)                 Output Shape              Param #   \n",
      "=================================================================\n",
      "lambda_34 (Lambda)           (None, 64, 64, 3)         0         \n",
      "_________________________________________________________________\n",
      "batch_normalization_9 (Batch (None, 64, 64, 3)         12        \n",
      "_________________________________________________________________\n",
      "conv2d_95 (Conv2D)           (None, 16, 16, 48)        3648      \n",
      "_________________________________________________________________\n",
      "max_pooling2d_39 (MaxPooling (None, 8, 8, 48)          0         \n",
      "_________________________________________________________________\n",
      "conv2d_96 (Conv2D)           (None, 8, 8, 64)          76864     \n",
      "_________________________________________________________________\n",
      "conv2d_97 (Conv2D)           (None, 8, 8, 96)          55392     \n",
      "_________________________________________________________________\n",
      "conv2d_98 (Conv2D)           (None, 8, 8, 96)          83040     \n",
      "_________________________________________________________________\n",
      "conv2d_99 (Conv2D)           (None, 8, 8, 64)          55360     \n",
      "_________________________________________________________________\n",
      "max_pooling2d_40 (MaxPooling (None, 4, 4, 64)          0         \n",
      "_________________________________________________________________\n",
      "flatten_19 (Flatten)         (None, 1024)              0         \n",
      "_________________________________________________________________\n",
      "dense_55 (Dense)             (None, 256)               262400    \n",
      "_________________________________________________________________\n",
      "dense_56 (Dense)             (None, 256)               65792     \n",
      "_________________________________________________________________\n",
      "dropout_8 (Dropout)          (None, 256)               0         \n",
      "_________________________________________________________________\n",
      "dense_57 (Dense)             (None, 10)                2570      \n",
      "=================================================================\n",
      "Total params: 605,078\n",
      "Trainable params: 605,072\n",
      "Non-trainable params: 6\n",
      "_________________________________________________________________\n",
      "None\n"
     ]
    }
   ],
   "source": [
    "dropout_model = Sequential()\n",
    "\n",
    "# Layer 0\n",
    "# resize images to have the same input as in the AlexNet\n",
    "dropout_model.add(Lambda(lambda image: resize_images(image, height_factor=2, width_factor=2, data_format='channels_last'), input_shape=(32,32,3), output_shape=(64,64,3)))\n",
    "\n",
    "dropout_model.add(BatchNormalization())\n",
    "\n",
    "# AlexNet layers description here: https://sushscience.wordpress.com/2016/12/04/understanding-alexnet/\n",
    "# Keras layers docs: https://keras.io/layers/core/\n",
    "\n",
    "# Layer 1\n",
    "dropout_model.add(Conv2D(filters=48, kernel_size=(5,5), strides=4, activation='relu', padding='same'))\n",
    "\n",
    "# Layer 2\n",
    "dropout_model.add(MaxPooling2D(pool_size=(2,2)))\n",
    "dropout_model.add(Conv2D(filters=64, kernel_size=(5,5), activation='relu', padding='same'))\n",
    "\n",
    "# Layer 3\n",
    "# model.add(MaxPooling2D(pool_size=(2,2)))\n",
    "dropout_model.add(Conv2D(filters=96, kernel_size=(3,3), activation='relu', padding='same'))\n",
    "\n",
    "# Layer 4\n",
    "dropout_model.add(Conv2D(filters=96, kernel_size=(3,3), activation='relu', padding='same'))\n",
    "\n",
    "# Layer 5\n",
    "dropout_model.add(Conv2D(filters=64, kernel_size=(3,3), activation='relu', padding='same'))\n",
    "\n",
    "# Layer 6\n",
    "dropout_model.add(MaxPooling2D(pool_size=(2,2)))\n",
    "dropout_model.add(Flatten())\n",
    "dropout_model.add(Dense(256, activation = 'relu'))\n",
    "# dropout_model.add(Dropout(0.2))\n",
    "\n",
    "# Layer 7\n",
    "dropout_model.add(Dense(256, activation = 'relu'))\n",
    "dropout_model.add(Dropout(0.20))\n",
    "\n",
    "# Layer 8\n",
    "dropout_model.add(Dense(10, activation = 'softmax'))\n",
    "\n",
    "print(dropout_model.summary())\n",
    "\n",
    "dropout_model.compile(loss=keras.losses.categorical_crossentropy, optimizer='adam', metrics=['accuracy'])"
   ]
  },
  {
   "cell_type": "code",
   "execution_count": null,
   "metadata": {
    "scrolled": false
   },
   "outputs": [
    {
     "name": "stdout",
     "output_type": "stream",
     "text": [
      "Train on 50000 samples, validate on 10000 samples\n",
      "Epoch 1/50\n"
     ]
    },
    {
     "name": "stderr",
     "output_type": "stream",
     "text": [
      "INFO:plaidml:Analyzing Ops: 133 of 488 operations complete\n"
     ]
    },
    {
     "name": "stdout",
     "output_type": "stream",
     "text": [
      "49920/50000 [============================>.] - ETA: 0s - loss: 1.6072 - acc: 0.4080"
     ]
    },
    {
     "name": "stderr",
     "output_type": "stream",
     "text": [
      "INFO:plaidml:Analyzing Ops: 139 of 488 operations complete\n"
     ]
    },
    {
     "name": "stdout",
     "output_type": "stream",
     "text": [
      "50000/50000 [==============================] - 48s 961us/step - loss: 1.6069 - acc: 0.4081 - val_loss: 1.3866 - val_acc: 0.5025\n",
      "Epoch 2/50\n",
      "50000/50000 [==============================] - 29s 586us/step - loss: 1.2119 - acc: 0.5656 - val_loss: 1.1621 - val_acc: 0.5872\n",
      "Epoch 3/50\n",
      "50000/50000 [==============================] - 29s 586us/step - loss: 1.0272 - acc: 0.6367 - val_loss: 1.0120 - val_acc: 0.6447\n",
      "Epoch 4/50\n",
      "50000/50000 [==============================] - 29s 585us/step - loss: 0.9014 - acc: 0.6841 - val_loss: 0.8994 - val_acc: 0.6856\n",
      "Epoch 5/50\n",
      "50000/50000 [==============================] - 29s 586us/step - loss: 0.7992 - acc: 0.7199 - val_loss: 0.8509 - val_acc: 0.6966\n",
      "Epoch 6/50\n",
      "50000/50000 [==============================] - 29s 587us/step - loss: 0.7174 - acc: 0.7509 - val_loss: 0.8282 - val_acc: 0.7159\n",
      "Epoch 7/50\n",
      "50000/50000 [==============================] - 29s 584us/step - loss: 0.6456 - acc: 0.7743 - val_loss: 0.8225 - val_acc: 0.7169\n",
      "Epoch 8/50\n",
      "50000/50000 [==============================] - 29s 587us/step - loss: 0.5714 - acc: 0.8003 - val_loss: 0.8044 - val_acc: 0.7336\n",
      "Epoch 9/50\n",
      "50000/50000 [==============================] - 29s 586us/step - loss: 0.5075 - acc: 0.8229 - val_loss: 0.8294 - val_acc: 0.7269\n",
      "Epoch 10/50\n",
      "50000/50000 [==============================] - 29s 588us/step - loss: 0.4469 - acc: 0.8434 - val_loss: 0.8089 - val_acc: 0.7312\n",
      "Epoch 11/50\n",
      "50000/50000 [==============================] - 29s 589us/step - loss: 0.3874 - acc: 0.8641 - val_loss: 0.8573 - val_acc: 0.7278\n",
      "Epoch 12/50\n",
      "50000/50000 [==============================] - 29s 588us/step - loss: 0.3352 - acc: 0.8809 - val_loss: 0.9808 - val_acc: 0.7195\n",
      "Epoch 13/50\n",
      "50000/50000 [==============================] - 29s 587us/step - loss: 0.2903 - acc: 0.8969 - val_loss: 0.9871 - val_acc: 0.7234\n",
      "Epoch 14/50\n",
      "50000/50000 [==============================] - 29s 587us/step - loss: 0.2500 - acc: 0.9126 - val_loss: 1.1605 - val_acc: 0.7189\n",
      "Epoch 15/50\n",
      "50000/50000 [==============================] - 29s 589us/step - loss: 0.2343 - acc: 0.9174 - val_loss: 1.0791 - val_acc: 0.7220\n",
      "Epoch 16/50\n",
      "50000/50000 [==============================] - 29s 588us/step - loss: 0.1989 - acc: 0.9297 - val_loss: 1.1316 - val_acc: 0.7265\n",
      "Epoch 17/50\n",
      "50000/50000 [==============================] - 29s 588us/step - loss: 0.1822 - acc: 0.9357 - val_loss: 1.2311 - val_acc: 0.7221\n",
      "Epoch 18/50\n",
      "50000/50000 [==============================] - 29s 587us/step - loss: 0.1613 - acc: 0.9433 - val_loss: 1.2564 - val_acc: 0.7213\n",
      "Epoch 19/50\n",
      "50000/50000 [==============================] - 29s 587us/step - loss: 0.1467 - acc: 0.9487 - val_loss: 1.3078 - val_acc: 0.7240\n",
      "Epoch 20/50\n",
      "50000/50000 [==============================] - 29s 587us/step - loss: 0.1404 - acc: 0.9521 - val_loss: 1.3714 - val_acc: 0.7178\n",
      "Epoch 21/50\n",
      "50000/50000 [==============================] - 29s 587us/step - loss: 0.1194 - acc: 0.9585 - val_loss: 1.4665 - val_acc: 0.7228\n",
      "Epoch 22/50\n",
      "50000/50000 [==============================] - 29s 588us/step - loss: 0.1254 - acc: 0.9558 - val_loss: 1.5389 - val_acc: 0.7139\n",
      "Epoch 23/50\n",
      "50000/50000 [==============================] - 29s 589us/step - loss: 0.1061 - acc: 0.9626 - val_loss: 1.4551 - val_acc: 0.7189\n",
      "Epoch 24/50\n",
      "50000/50000 [==============================] - 29s 588us/step - loss: 0.1099 - acc: 0.9636 - val_loss: 1.6178 - val_acc: 0.7205\n",
      "Epoch 25/50\n",
      "50000/50000 [==============================] - 29s 586us/step - loss: 0.1027 - acc: 0.9653 - val_loss: 1.6109 - val_acc: 0.7165\n",
      "Epoch 26/50\n",
      "50000/50000 [==============================] - 29s 587us/step - loss: 0.1035 - acc: 0.9647 - val_loss: 1.5363 - val_acc: 0.7256\n",
      "Epoch 27/50\n",
      "50000/50000 [==============================] - 29s 589us/step - loss: 0.0905 - acc: 0.9692 - val_loss: 1.4443 - val_acc: 0.7246\n",
      "Epoch 28/50\n",
      "50000/50000 [==============================] - 29s 587us/step - loss: 0.1047 - acc: 0.9648 - val_loss: 1.5696 - val_acc: 0.7223\n",
      "Epoch 29/50\n",
      "50000/50000 [==============================] - 29s 585us/step - loss: 0.0792 - acc: 0.9733 - val_loss: 1.7217 - val_acc: 0.7209\n",
      "Epoch 30/50\n",
      "50000/50000 [==============================] - 29s 586us/step - loss: 0.0906 - acc: 0.9696 - val_loss: 1.6967 - val_acc: 0.7128\n",
      "Epoch 31/50\n",
      "50000/50000 [==============================] - 29s 585us/step - loss: 0.0897 - acc: 0.9697 - val_loss: 1.6134 - val_acc: 0.7234\n",
      "Epoch 32/50\n",
      "29696/50000 [================>.............] - ETA: 11s - loss: 0.0601 - acc: 0.9801"
     ]
    }
   ],
   "source": [
    "dropout_model.fit(train_images, train_labels, batch_size=256, epochs=50, initial_epoch=0, verbose=1, validation_data=(cv_images, cv_labels))"
   ]
  },
  {
   "cell_type": "code",
   "execution_count": null,
   "metadata": {},
   "outputs": [],
   "source": [
    "save_model(dropout_model, 'dropout_model')"
   ]
  },
  {
   "cell_type": "markdown",
   "metadata": {},
   "source": [
    "### Summary\n",
    "The best accuracy on the test set is 0.6199 (epoch 27)."
   ]
  }
 ],
 "metadata": {
  "kernelspec": {
   "display_name": "Python 3",
   "language": "python",
   "name": "python3"
  },
  "language_info": {
   "codemirror_mode": {
    "name": "ipython",
    "version": 3
   },
   "file_extension": ".py",
   "mimetype": "text/x-python",
   "name": "python",
   "nbconvert_exporter": "python",
   "pygments_lexer": "ipython3",
   "version": "3.6.8"
  }
 },
 "nbformat": 4,
 "nbformat_minor": 2
}
