{
 "cells": [
  {
   "cell_type": "code",
   "execution_count": 1,
   "metadata": {},
   "outputs": [
    {
     "data": {
      "text/html": [
       "<style>.container { width:90% !important; }</style>"
      ],
      "text/plain": [
       "<IPython.core.display.HTML object>"
      ]
     },
     "metadata": {},
     "output_type": "display_data"
    }
   ],
   "source": [
    "from IPython.core.display import display, HTML\n",
    "display(HTML(\"<style>.container { width:90% !important; }</style>\"))"
   ]
  },
  {
   "cell_type": "markdown",
   "metadata": {},
   "source": [
    "# Convolutional neural networks"
   ]
  },
  {
   "cell_type": "markdown",
   "metadata": {},
   "source": [
    "In class, we have briefly reviewed the idea of learning good features directly from data and went through the concept of convolutional neural networks along with few architectures.\n",
    "\n",
    "Until recently, building convolutional neural networks was tough. There was no high-level tools for that, you would be required to understand all the internal mechanics of the model and its operations.\n",
    "\n",
    "Today, due to the high-level tools such as Keras and TensorFlow, everybody can build a convolutional neural network and put it to work without diving deep into them. What used to be a one-month project became a few hours exercise.\n"
   ]
  },
  {
   "cell_type": "code",
   "execution_count": 14,
   "metadata": {},
   "outputs": [],
   "source": [
    "import pickle\n",
    "import numpy as np\n",
    "import keras\n",
    "import tensorflow as tf\n",
    "import matplotlib.pyplot as plt\n",
    "\n",
    "from keras.backend import tf as ktf\n",
    "from keras.models import Sequential\n",
    "from keras.layers import Dense\n",
    "from keras.layers import Dropout\n",
    "from keras.layers import Conv2D\n",
    "from keras.layers import MaxPooling2D\n",
    "from keras.layers import Lambda\n",
    "from keras.layers import Flatten\n",
    "\n",
    "from keras.optimizers import SGD\n",
    "\n",
    "from keras.utils import np_utils"
   ]
  },
  {
   "cell_type": "markdown",
   "metadata": {},
   "source": [
    "## Loading the images"
   ]
  },
  {
   "cell_type": "code",
   "execution_count": 3,
   "metadata": {},
   "outputs": [],
   "source": [
    "train_images, train_labels = pickle.load(open('data/train_set_all.pkl', 'rb'))\n",
    "cv_images, cv_labels = pickle.load(open('data/test_set_all.pkl', 'rb'))\n",
    "\n",
    "train_images = np.array(train_images)\n",
    "train_labels = np_utils.to_categorical(np.array(train_labels), 10)\n",
    "\n",
    "cv_images = np.array(cv_images)\n",
    "cv_labels = np_utils.to_categorical(np.array(cv_labels), 10)"
   ]
  },
  {
   "cell_type": "code",
   "execution_count": 4,
   "metadata": {},
   "outputs": [
    {
     "name": "stdout",
     "output_type": "stream",
     "text": [
      "(50000, 32, 32, 3)\n",
      "50000\n"
     ]
    }
   ],
   "source": [
    "print(train_images.shape)\n",
    "print(len(train_labels))"
   ]
  },
  {
   "cell_type": "code",
   "execution_count": 5,
   "metadata": {},
   "outputs": [
    {
     "name": "stdout",
     "output_type": "stream",
     "text": [
      "(10000, 32, 32, 3)\n",
      "10000\n"
     ]
    }
   ],
   "source": [
    "print(cv_images.shape)\n",
    "print(len(cv_labels))"
   ]
  },
  {
   "cell_type": "code",
   "execution_count": 6,
   "metadata": {},
   "outputs": [
    {
     "name": "stdout",
     "output_type": "stream",
     "text": [
      "[[0. 0. 0. 0. 0. 0. 1. 0. 0. 0.]\n",
      " [0. 0. 0. 0. 0. 0. 0. 0. 0. 1.]\n",
      " [0. 0. 0. 0. 0. 0. 0. 0. 0. 1.]\n",
      " [0. 0. 0. 0. 1. 0. 0. 0. 0. 0.]\n",
      " [0. 1. 0. 0. 0. 0. 0. 0. 0. 0.]\n",
      " [0. 1. 0. 0. 0. 0. 0. 0. 0. 0.]\n",
      " [0. 0. 1. 0. 0. 0. 0. 0. 0. 0.]\n",
      " [0. 0. 0. 0. 0. 0. 0. 1. 0. 0.]\n",
      " [0. 0. 0. 0. 0. 0. 0. 0. 1. 0.]\n",
      " [0. 0. 0. 1. 0. 0. 0. 0. 0. 0.]]\n"
     ]
    }
   ],
   "source": [
    "print(train_labels[0:10])"
   ]
  },
  {
   "cell_type": "code",
   "execution_count": 7,
   "metadata": {},
   "outputs": [],
   "source": [
    "def show_image(np_array):\n",
    "    %matplotlib inline\n",
    "    plt.figure()\n",
    "    plt.imshow(np_array)"
   ]
  },
  {
   "cell_type": "code",
   "execution_count": 8,
   "metadata": {},
   "outputs": [],
   "source": [
    "def show_example(data_set, labels, example_index):\n",
    "    show_image(data_set[example_index])\n",
    "    print('Label: ', labels[example_index])"
   ]
  },
  {
   "cell_type": "code",
   "execution_count": 9,
   "metadata": {},
   "outputs": [
    {
     "name": "stdout",
     "output_type": "stream",
     "text": [
      "Label:  [0. 0. 0. 0. 0. 0. 1. 0. 0. 0.]\n"
     ]
    },
    {
     "data": {
      "image/png": "[encoded data removed]",
      "text/plain": [
       "<Figure size 432x288 with 1 Axes>"
      ]
     },
     "metadata": {},
     "output_type": "display_data"
    }
   ],
   "source": [
    "show_example(train_images, train_labels, example_index = 0)"
   ]
  },
  {
   "cell_type": "code",
   "execution_count": 10,
   "metadata": {},
   "outputs": [
    {
     "name": "stdout",
     "output_type": "stream",
     "text": [
      "Label:  [0. 0. 0. 1. 0. 0. 0. 0. 0. 0.]\n"
     ]
    },
    {
     "data": {
      "image/png": "[encoded data removed]",
      "text/plain": [
       "<Figure size 432x288 with 1 Axes>"
      ]
     },
     "metadata": {},
     "output_type": "display_data"
    }
   ],
   "source": [
    "show_example(cv_images, cv_labels, example_index = 0)"
   ]
  },
  {
   "cell_type": "markdown",
   "metadata": {},
   "source": [
    "## Building AlexNet"
   ]
  },
  {
   "cell_type": "markdown",
   "metadata": {},
   "source": [
    "In 2012 a convolutional neural network called AlexNet won ImageNet competition. \n",
    "\n",
    "Go through an [original AlexNet paper](https://papers.nips.cc/paper/4824-imagenet-classification-with-deep-convolutional-neural-networks.pdf) to investigate the architecture. Next, investigate the [basics of Keras](https://keras.io/#keras-the-python-deep-learning-library). We will use it with TensorFlow backend.\n",
    "\n",
    "You are also encouraged to go through some CNN tutorial for Keras. There is a number of them online (for example, [this](https://elitedatascience.com/keras-tutorial-deep-learning-in-python) or [this](https://machinelearningmastery.com/handwritten-digit-recognition-using-convolutional-neural-networks-python-keras/)).\n",
    "Now, build AlexNex network with Keras for object recognition. Note that standard AlexNet works with 224x224 input images. The dataset you are going to use for this problem is 32x32."
   ]
  },
  {
   "cell_type": "code",
   "execution_count": 34,
   "metadata": {},
   "outputs": [
    {
     "name": "stdout",
     "output_type": "stream",
     "text": [
      "_________________________________________________________________\n",
      "Layer (type)                 Output Shape              Param #   \n",
      "=================================================================\n",
      "lambda_15 (Lambda)           (None, 54, 54, 3)         0         \n",
      "_________________________________________________________________\n",
      "conv2d_71 (Conv2D)           (None, 14, 14, 48)        3648      \n",
      "_________________________________________________________________\n",
      "max_pooling2d_39 (MaxPooling (None, 7, 7, 48)          0         \n",
      "_________________________________________________________________\n",
      "conv2d_72 (Conv2D)           (None, 7, 7, 64)          76864     \n",
      "_________________________________________________________________\n",
      "conv2d_73 (Conv2D)           (None, 7, 7, 96)          55392     \n",
      "_________________________________________________________________\n",
      "conv2d_74 (Conv2D)           (None, 7, 7, 96)          83040     \n",
      "_________________________________________________________________\n",
      "conv2d_75 (Conv2D)           (None, 7, 7, 64)          55360     \n",
      "_________________________________________________________________\n",
      "max_pooling2d_40 (MaxPooling (None, 3, 3, 64)          0         \n",
      "_________________________________________________________________\n",
      "flatten_15 (Flatten)         (None, 576)               0         \n",
      "_________________________________________________________________\n",
      "dense_43 (Dense)             (None, 256)               147712    \n",
      "_________________________________________________________________\n",
      "dense_44 (Dense)             (None, 256)               65792     \n",
      "_________________________________________________________________\n",
      "dense_45 (Dense)             (None, 10)                2570      \n",
      "=================================================================\n",
      "Total params: 490,378\n",
      "Trainable params: 490,378\n",
      "Non-trainable params: 0\n",
      "_________________________________________________________________\n",
      "None\n"
     ]
    }
   ],
   "source": [
    "model = Sequential()\n",
    "\n",
    "# Layer 0\n",
    "# resize images to have the same input as in the AlexNet\n",
    "model.add(Lambda(lambda image: ktf.image.resize_images(image, (54, 54)), input_shape=(32,32,3)))\n",
    "\n",
    "# AlexNet layers description here: https://sushscience.wordpress.com/2016/12/04/understanding-alexnet/\n",
    "# Keras layers docs: https://keras.io/layers/core/\n",
    "\n",
    "# Layer 1\n",
    "model.add(Conv2D(filters=48, kernel_size=(5,5), strides=4, activation='relu', padding='same'))\n",
    "\n",
    "# Layer 2\n",
    "model.add(MaxPooling2D(pool_size=(2,2)))\n",
    "model.add(Conv2D(filters=64, kernel_size=(5,5), activation='relu', padding='same'))\n",
    "\n",
    "# Layer 3\n",
    "# model.add(MaxPooling2D(pool_size=(2,2)))\n",
    "model.add(Conv2D(filters=96, kernel_size=(3,3), activation='relu', padding='same'))\n",
    "\n",
    "# Layer 4\n",
    "model.add(Conv2D(filters=96, kernel_size=(3,3), activation='relu', padding='same'))\n",
    "\n",
    "# Layer 5\n",
    "model.add(Conv2D(filters=64, kernel_size=(3,3), activation='relu', padding='same'))\n",
    "\n",
    "# Layer 6\n",
    "model.add(MaxPooling2D(pool_size=(2,2)))\n",
    "model.add(Flatten())\n",
    "model.add(Dense(256, activation = 'relu'))\n",
    "\n",
    "# Layer 7\n",
    "model.add(Dense(256, activation = 'relu'))\n",
    "\n",
    "# Layer 8\n",
    "model.add(Dense(10, activation = 'softmax'))\n",
    "\n",
    "print(model.summary())\n",
    "\n",
    "model.compile(loss=keras.losses.categorical_crossentropy, optimizer='adam', metrics=['accuracy'])"
   ]
  },
  {
   "cell_type": "markdown",
   "metadata": {},
   "source": [
    "## Training AlexNet"
   ]
  },
  {
   "cell_type": "markdown",
   "metadata": {},
   "source": [
    "Use training set for training the network to recognize objects. You might want to use RMSProp optimizer to speed up the training.\n",
    "\n",
    "Convolutional networks require a lot of computing power for training. Typical setup for training CNN is to use GPU, however, in this problem you are not required to do so. CPU will be fine as well.\n",
    "\n",
    "If you are using CPU for this subproblem, training process might be slow. You can stop it manually as soon as you get meaningful results.\n",
    "\n",
    "Report the results on the training and cross-validation sets. The report should contain the training logs."
   ]
  },
  {
   "cell_type": "code",
   "execution_count": 35,
   "metadata": {},
   "outputs": [
    {
     "name": "stdout",
     "output_type": "stream",
     "text": [
      "Train on 50000 samples, validate on 10000 samples\n",
      "Epoch 1/100\n",
      "50000/50000 [==============================] - 57s 1ms/step - loss: 1.7868 - acc: 0.3688 - val_loss: 1.6963 - val_acc: 0.3892\n",
      "Epoch 2/100\n",
      "50000/50000 [==============================] - 55s 1ms/step - loss: 1.4104 - acc: 0.4937 - val_loss: 1.3685 - val_acc: 0.5194\n",
      "Epoch 3/100\n",
      "50000/50000 [==============================] - 52s 1ms/step - loss: 1.2765 - acc: 0.5459 - val_loss: 1.2295 - val_acc: 0.5549\n",
      "Epoch 4/100\n",
      "50000/50000 [==============================] - 52s 1ms/step - loss: 1.1986 - acc: 0.5715 - val_loss: 1.2725 - val_acc: 0.5506\n",
      "Epoch 5/100\n",
      "50000/50000 [==============================] - 52s 1ms/step - loss: 1.1340 - acc: 0.5957 - val_loss: 1.1865 - val_acc: 0.5838\n",
      "Epoch 6/100\n",
      "50000/50000 [==============================] - 52s 1ms/step - loss: 1.0798 - acc: 0.6158 - val_loss: 1.1829 - val_acc: 0.5864\n",
      "Epoch 7/100\n",
      "50000/50000 [==============================] - 53s 1ms/step - loss: 1.0261 - acc: 0.6343 - val_loss: 1.1991 - val_acc: 0.5808\n",
      "Epoch 8/100\n",
      "50000/50000 [==============================] - 52s 1ms/step - loss: 0.9908 - acc: 0.6485 - val_loss: 1.1960 - val_acc: 0.5904\n",
      "Epoch 9/100\n",
      "50000/50000 [==============================] - 53s 1ms/step - loss: 0.9479 - acc: 0.6631 - val_loss: 1.1582 - val_acc: 0.5977\n",
      "Epoch 10/100\n",
      "50000/50000 [==============================] - 53s 1ms/step - loss: 0.9167 - acc: 0.6755 - val_loss: 1.1734 - val_acc: 0.5940\n",
      "Epoch 11/100\n",
      "50000/50000 [==============================] - 53s 1ms/step - loss: 0.8840 - acc: 0.6899 - val_loss: 1.2165 - val_acc: 0.6001\n",
      "Epoch 12/100\n",
      "50000/50000 [==============================] - 54s 1ms/step - loss: 0.8446 - acc: 0.7002 - val_loss: 1.1952 - val_acc: 0.6070\n",
      "Epoch 13/100\n",
      "50000/50000 [==============================] - 55s 1ms/step - loss: 0.8143 - acc: 0.7113 - val_loss: 1.2288 - val_acc: 0.5981\n",
      "Epoch 14/100\n",
      "50000/50000 [==============================] - 56s 1ms/step - loss: 0.7849 - acc: 0.7215 - val_loss: 1.2319 - val_acc: 0.6112\n",
      "Epoch 15/100\n",
      "50000/50000 [==============================] - 55s 1ms/step - loss: 0.7411 - acc: 0.7373 - val_loss: 1.2591 - val_acc: 0.6022\n",
      "Epoch 16/100\n",
      "50000/50000 [==============================] - 54s 1ms/step - loss: 0.7154 - acc: 0.7463 - val_loss: 1.2570 - val_acc: 0.6088\n",
      "Epoch 17/100\n",
      "50000/50000 [==============================] - 54s 1ms/step - loss: 0.6942 - acc: 0.7543 - val_loss: 1.2788 - val_acc: 0.6028\n",
      "Epoch 18/100\n",
      "50000/50000 [==============================] - 55s 1ms/step - loss: 0.6657 - acc: 0.7642 - val_loss: 1.3352 - val_acc: 0.5930\n",
      "Epoch 19/100\n",
      "50000/50000 [==============================] - 54s 1ms/step - loss: 0.6439 - acc: 0.7739 - val_loss: 1.3239 - val_acc: 0.6087\n",
      "Epoch 20/100\n",
      "50000/50000 [==============================] - 54s 1ms/step - loss: 0.6140 - acc: 0.7839 - val_loss: 1.3722 - val_acc: 0.6207\n",
      "Epoch 21/100\n",
      "50000/50000 [==============================] - 54s 1ms/step - loss: 0.6047 - acc: 0.7872 - val_loss: 1.3294 - val_acc: 0.6077\n",
      "Epoch 22/100\n",
      "50000/50000 [==============================] - 54s 1ms/step - loss: 0.5865 - acc: 0.7944 - val_loss: 1.3903 - val_acc: 0.6043\n",
      "Epoch 23/100\n",
      "50000/50000 [==============================] - 54s 1ms/step - loss: 0.5565 - acc: 0.8051 - val_loss: 1.4617 - val_acc: 0.6058\n",
      "Epoch 24/100\n",
      "50000/50000 [==============================] - 54s 1ms/step - loss: 0.5332 - acc: 0.8117 - val_loss: 1.4099 - val_acc: 0.6060\n",
      "Epoch 25/100\n",
      "50000/50000 [==============================] - 54s 1ms/step - loss: 0.5252 - acc: 0.8177 - val_loss: 1.5398 - val_acc: 0.5980\n",
      "Epoch 26/100\n",
      "50000/50000 [==============================] - 55s 1ms/step - loss: 0.5106 - acc: 0.8232 - val_loss: 1.5705 - val_acc: 0.6035\n",
      "Epoch 27/100\n",
      "50000/50000 [==============================] - 55s 1ms/step - loss: 0.4768 - acc: 0.8350 - val_loss: 1.5479 - val_acc: 0.6087\n",
      "Epoch 28/100\n",
      "50000/50000 [==============================] - 54s 1ms/step - loss: 0.4732 - acc: 0.8381 - val_loss: 1.5034 - val_acc: 0.6014\n",
      "Epoch 29/100\n",
      "50000/50000 [==============================] - 55s 1ms/step - loss: 0.4664 - acc: 0.8401 - val_loss: 1.5510 - val_acc: 0.6029\n",
      "Epoch 30/100\n",
      "50000/50000 [==============================] - 55s 1ms/step - loss: 0.4418 - acc: 0.8511 - val_loss: 1.6321 - val_acc: 0.6005\n",
      "Epoch 31/100\n",
      "50000/50000 [==============================] - 55s 1ms/step - loss: 0.4299 - acc: 0.8543 - val_loss: 1.6700 - val_acc: 0.6067\n",
      "Epoch 32/100\n",
      "50000/50000 [==============================] - 55s 1ms/step - loss: 0.4278 - acc: 0.8552 - val_loss: 1.7123 - val_acc: 0.6050\n",
      "Epoch 33/100\n",
      "50000/50000 [==============================] - 55s 1ms/step - loss: 0.4131 - acc: 0.8608 - val_loss: 1.6242 - val_acc: 0.6167\n",
      "Epoch 34/100\n",
      "50000/50000 [==============================] - 55s 1ms/step - loss: 0.4020 - acc: 0.8639 - val_loss: 1.6731 - val_acc: 0.6037\n",
      "Epoch 35/100\n",
      "50000/50000 [==============================] - 56s 1ms/step - loss: 0.3999 - acc: 0.8691 - val_loss: 1.7210 - val_acc: 0.6050\n",
      "Epoch 36/100\n",
      "50000/50000 [==============================] - 56s 1ms/step - loss: 0.3891 - acc: 0.8696 - val_loss: 1.8242 - val_acc: 0.5979\n",
      "Epoch 37/100\n",
      "50000/50000 [==============================] - 56s 1ms/step - loss: 0.3742 - acc: 0.8762 - val_loss: 1.7662 - val_acc: 0.6093\n",
      "Epoch 38/100\n",
      "50000/50000 [==============================] - 56s 1ms/step - loss: 0.3542 - acc: 0.8831 - val_loss: 1.7936 - val_acc: 0.6024\n",
      "Epoch 39/100\n",
      "50000/50000 [==============================] - 56s 1ms/step - loss: 0.3609 - acc: 0.8826 - val_loss: 1.8136 - val_acc: 0.6052\n",
      "Epoch 40/100\n",
      "50000/50000 [==============================] - 59s 1ms/step - loss: 0.3422 - acc: 0.8881 - val_loss: 1.8863 - val_acc: 0.5957\n",
      "Epoch 41/100\n",
      "50000/50000 [==============================] - 57s 1ms/step - loss: 0.3380 - acc: 0.8910 - val_loss: 1.8735 - val_acc: 0.5921\n",
      "Epoch 42/100\n",
      "50000/50000 [==============================] - 57s 1ms/step - loss: 0.3402 - acc: 0.8912 - val_loss: 1.9132 - val_acc: 0.6034\n",
      "Epoch 43/100\n",
      "50000/50000 [==============================] - 56s 1ms/step - loss: 0.3330 - acc: 0.8930 - val_loss: 1.9851 - val_acc: 0.6074\n",
      "Epoch 44/100\n",
      "50000/50000 [==============================] - 57s 1ms/step - loss: 0.3108 - acc: 0.8998 - val_loss: 1.8877 - val_acc: 0.6074\n",
      "Epoch 45/100\n",
      "50000/50000 [==============================] - 56s 1ms/step - loss: 0.3145 - acc: 0.8990 - val_loss: 1.9264 - val_acc: 0.6098\n",
      "Epoch 46/100\n",
      "50000/50000 [==============================] - 56s 1ms/step - loss: 0.2997 - acc: 0.9062 - val_loss: 2.1139 - val_acc: 0.6066\n",
      "Epoch 47/100\n",
      "50000/50000 [==============================] - 57s 1ms/step - loss: 0.2964 - acc: 0.9062 - val_loss: 1.9432 - val_acc: 0.6137\n",
      "Epoch 48/100\n",
      "50000/50000 [==============================] - 57s 1ms/step - loss: 0.3115 - acc: 0.9037 - val_loss: 2.0118 - val_acc: 0.5954\n",
      "Epoch 49/100\n",
      "50000/50000 [==============================] - 52s 1ms/step - loss: 0.2692 - acc: 0.9155 - val_loss: 2.0528 - val_acc: 0.6040\n",
      "Epoch 50/100\n",
      "50000/50000 [==============================] - 52s 1ms/step - loss: 0.3008 - acc: 0.9047 - val_loss: 1.9604 - val_acc: 0.6010\n",
      "Epoch 51/100\n",
      "50000/50000 [==============================] - 52s 1ms/step - loss: 0.2809 - acc: 0.9122 - val_loss: 2.0153 - val_acc: 0.6060\n",
      "Epoch 52/100\n",
      "50000/50000 [==============================] - 52s 1ms/step - loss: 0.2829 - acc: 0.9128 - val_loss: 1.9610 - val_acc: 0.5939\n",
      "Epoch 53/100\n",
      "50000/50000 [==============================] - 53s 1ms/step - loss: 0.2774 - acc: 0.9149 - val_loss: 2.1240 - val_acc: 0.6039\n",
      "Epoch 54/100\n",
      "50000/50000 [==============================] - 53s 1ms/step - loss: 0.2784 - acc: 0.9163 - val_loss: 2.0057 - val_acc: 0.6077\n",
      "Epoch 55/100\n",
      "50000/50000 [==============================] - 54s 1ms/step - loss: 0.2657 - acc: 0.9187 - val_loss: 2.0910 - val_acc: 0.6108\n",
      "Epoch 56/100\n",
      "50000/50000 [==============================] - 54s 1ms/step - loss: 0.2653 - acc: 0.9198 - val_loss: 2.1895 - val_acc: 0.6091\n",
      "Epoch 57/100\n",
      "50000/50000 [==============================] - 54s 1ms/step - loss: 0.2568 - acc: 0.9231 - val_loss: 2.1164 - val_acc: 0.6080\n",
      "Epoch 58/100\n",
      "50000/50000 [==============================] - 55s 1ms/step - loss: 0.2725 - acc: 0.9198 - val_loss: 2.0943 - val_acc: 0.5997\n",
      "Epoch 59/100\n"
     ]
    },
    {
     "name": "stdout",
     "output_type": "stream",
     "text": [
      "50000/50000 [==============================] - 55s 1ms/step - loss: 0.2710 - acc: 0.9191 - val_loss: 2.0351 - val_acc: 0.6064\n",
      "Epoch 60/100\n",
      "50000/50000 [==============================] - 54s 1ms/step - loss: 0.2485 - acc: 0.9255 - val_loss: 2.1377 - val_acc: 0.5988\n",
      "Epoch 61/100\n",
      "50000/50000 [==============================] - 54s 1ms/step - loss: 0.2480 - acc: 0.9280 - val_loss: 2.2210 - val_acc: 0.6005\n",
      "Epoch 62/100\n",
      "50000/50000 [==============================] - 54s 1ms/step - loss: 0.2517 - acc: 0.9265 - val_loss: 2.1621 - val_acc: 0.6025\n",
      "Epoch 63/100\n",
      "50000/50000 [==============================] - 54s 1ms/step - loss: 0.2463 - acc: 0.9280 - val_loss: 2.1536 - val_acc: 0.5987\n",
      "Epoch 64/100\n",
      "50000/50000 [==============================] - 54s 1ms/step - loss: 0.2693 - acc: 0.9228 - val_loss: 2.0605 - val_acc: 0.6079\n",
      "Epoch 65/100\n",
      "50000/50000 [==============================] - 54s 1ms/step - loss: 0.2677 - acc: 0.9225 - val_loss: 2.0601 - val_acc: 0.6023\n",
      "Epoch 66/100\n",
      "50000/50000 [==============================] - 55s 1ms/step - loss: 0.2357 - acc: 0.9319 - val_loss: 2.2497 - val_acc: 0.5945\n",
      "Epoch 67/100\n",
      "50000/50000 [==============================] - 55s 1ms/step - loss: 0.2243 - acc: 0.9343 - val_loss: 2.1924 - val_acc: 0.5991\n",
      "Epoch 68/100\n",
      "50000/50000 [==============================] - 55s 1ms/step - loss: 0.2558 - acc: 0.9265 - val_loss: 2.4265 - val_acc: 0.6037\n",
      "Epoch 69/100\n",
      "50000/50000 [==============================] - 55s 1ms/step - loss: 0.2314 - acc: 0.9345 - val_loss: 2.2871 - val_acc: 0.6073\n",
      "Epoch 70/100\n",
      "50000/50000 [==============================] - 55s 1ms/step - loss: 0.2506 - acc: 0.9292 - val_loss: 2.3680 - val_acc: 0.6063\n",
      "Epoch 71/100\n",
      "50000/50000 [==============================] - 55s 1ms/step - loss: 0.2863 - acc: 0.9207 - val_loss: 2.0897 - val_acc: 0.6024\n",
      "Epoch 72/100\n",
      "50000/50000 [==============================] - 55s 1ms/step - loss: 0.2170 - acc: 0.9384 - val_loss: 2.2786 - val_acc: 0.6007\n",
      "Epoch 73/100\n",
      "50000/50000 [==============================] - 55s 1ms/step - loss: 0.2430 - acc: 0.9327 - val_loss: 2.4095 - val_acc: 0.6007\n",
      "Epoch 74/100\n",
      "50000/50000 [==============================] - 55s 1ms/step - loss: 0.2594 - acc: 0.9297 - val_loss: 2.3753 - val_acc: 0.5963\n",
      "Epoch 75/100\n",
      "50000/50000 [==============================] - 55s 1ms/step - loss: 0.2445 - acc: 0.9319 - val_loss: 2.2502 - val_acc: 0.6047\n",
      "Epoch 76/100\n",
      "50000/50000 [==============================] - 56s 1ms/step - loss: 0.2285 - acc: 0.9371 - val_loss: 2.3155 - val_acc: 0.5980\n",
      "Epoch 77/100\n",
      "50000/50000 [==============================] - 54s 1ms/step - loss: 0.2381 - acc: 0.9339 - val_loss: 2.3148 - val_acc: 0.5934\n",
      "Epoch 78/100\n",
      "50000/50000 [==============================] - 54s 1ms/step - loss: 0.2617 - acc: 0.9297 - val_loss: 2.3705 - val_acc: 0.6135\n",
      "Epoch 79/100\n",
      "50000/50000 [==============================] - 54s 1ms/step - loss: 0.2388 - acc: 0.9341 - val_loss: 2.3688 - val_acc: 0.6054\n",
      "Epoch 80/100\n",
      "50000/50000 [==============================] - 54s 1ms/step - loss: 0.2507 - acc: 0.9306 - val_loss: 2.4506 - val_acc: 0.6013\n",
      "Epoch 81/100\n",
      "50000/50000 [==============================] - 55s 1ms/step - loss: 0.3097 - acc: 0.9183 - val_loss: 2.3208 - val_acc: 0.6109\n",
      "Epoch 82/100\n",
      "50000/50000 [==============================] - 55s 1ms/step - loss: 0.3464 - acc: 0.9059 - val_loss: 2.1392 - val_acc: 0.6101\n",
      "Epoch 83/100\n",
      "50000/50000 [==============================] - 59s 1ms/step - loss: 0.2039 - acc: 0.9427 - val_loss: 2.2995 - val_acc: 0.6009\n",
      "Epoch 84/100\n",
      "50000/50000 [==============================] - 55s 1ms/step - loss: 0.2790 - acc: 0.9269 - val_loss: 2.1493 - val_acc: 0.6015\n",
      "Epoch 85/100\n",
      "50000/50000 [==============================] - 56s 1ms/step - loss: 0.2691 - acc: 0.9280 - val_loss: 2.0202 - val_acc: 0.5945\n",
      "Epoch 86/100\n",
      "50000/50000 [==============================] - 55s 1ms/step - loss: 0.2447 - acc: 0.9359 - val_loss: 2.3869 - val_acc: 0.6085\n",
      "Epoch 87/100\n",
      "50000/50000 [==============================] - 55s 1ms/step - loss: 0.3632 - acc: 0.9025 - val_loss: 1.7606 - val_acc: 0.5280\n",
      "Epoch 88/100\n",
      "50000/50000 [==============================] - 57s 1ms/step - loss: 0.3240 - acc: 0.9143 - val_loss: 2.4283 - val_acc: 0.5985\n",
      "Epoch 89/100\n",
      "50000/50000 [==============================] - 55s 1ms/step - loss: 0.2096 - acc: 0.9448 - val_loss: 2.4281 - val_acc: 0.5947\n",
      "Epoch 90/100\n",
      "50000/50000 [==============================] - 57s 1ms/step - loss: 0.2631 - acc: 0.9318 - val_loss: 2.4900 - val_acc: 0.6067\n",
      "Epoch 91/100\n",
      "50000/50000 [==============================] - 55s 1ms/step - loss: 0.2664 - acc: 0.9311 - val_loss: 2.3980 - val_acc: 0.5948\n",
      "Epoch 92/100\n",
      "50000/50000 [==============================] - 55s 1ms/step - loss: 0.3043 - acc: 0.9215 - val_loss: 1.7702 - val_acc: 0.4909\n",
      "Epoch 93/100\n",
      "50000/50000 [==============================] - 55s 1ms/step - loss: 0.4088 - acc: 0.8844 - val_loss: 2.0638 - val_acc: 0.6022\n",
      "Epoch 94/100\n",
      "50000/50000 [==============================] - 60s 1ms/step - loss: 0.3091 - acc: 0.9164 - val_loss: 2.2508 - val_acc: 0.6024\n",
      "Epoch 95/100\n",
      "50000/50000 [==============================] - 59s 1ms/step - loss: 0.2022 - acc: 0.9451 - val_loss: 2.3222 - val_acc: 0.6081\n",
      "Epoch 96/100\n",
      "50000/50000 [==============================] - 58s 1ms/step - loss: 0.1924 - acc: 0.9498 - val_loss: 2.4049 - val_acc: 0.5991\n",
      "Epoch 97/100\n",
      "50000/50000 [==============================] - 58s 1ms/step - loss: 0.3264 - acc: 0.9165 - val_loss: 2.5635 - val_acc: 0.6022\n",
      "Epoch 98/100\n",
      "50000/50000 [==============================] - 58s 1ms/step - loss: 0.3805 - acc: 0.9030 - val_loss: 2.3789 - val_acc: 0.6001\n",
      "Epoch 99/100\n",
      "50000/50000 [==============================] - 60s 1ms/step - loss: 0.2426 - acc: 0.9381 - val_loss: 2.6128 - val_acc: 0.6024\n",
      "Epoch 100/100\n",
      "50000/50000 [==============================] - 57s 1ms/step - loss: 0.2724 - acc: 0.9307 - val_loss: 2.5051 - val_acc: 0.6020\n"
     ]
    },
    {
     "data": {
      "text/plain": [
       "<keras.callbacks.History at 0x149c24438>"
      ]
     },
     "execution_count": 35,
     "metadata": {},
     "output_type": "execute_result"
    }
   ],
   "source": [
    "model.fit(train_images, train_labels, batch_size=64, epochs=100, initial_epoch=0, verbose=1, validation_data=(cv_images, cv_labels))"
   ]
  },
  {
   "cell_type": "code",
   "execution_count": 51,
   "metadata": {},
   "outputs": [],
   "source": [
    "# save and load models: https://machinelearningmastery.com/save-load-keras-deep-learning-models/\n",
    "\n",
    "def save_model(model, model_name):\n",
    "    # serialize model to JSON\n",
    "    model_json = model.to_json()\n",
    "    with open(model_name + \".json\", \"w\") as json_file:\n",
    "        json_file.write(model_json)\n",
    "    # serialize weights to HDF5\n",
    "    model.save_weights(model_name + \".h5\")\n",
    "    print('Saved', model_name, 'to disk')"
   ]
  },
  {
   "cell_type": "code",
   "execution_count": 52,
   "metadata": {},
   "outputs": [
    {
     "name": "stdout",
     "output_type": "stream",
     "text": [
      "Saved model to disk\n"
     ]
    }
   ],
   "source": [
    "save_model(model, 'model')"
   ]
  },
  {
   "cell_type": "markdown",
   "metadata": {},
   "source": [
    "### Summary\n",
    "The best accuracy on the test set is 0.6167 (epoch 33)."
   ]
  },
  {
   "cell_type": "markdown",
   "metadata": {},
   "source": [
    "## Improving AlexNet"
   ]
  },
  {
   "cell_type": "markdown",
   "metadata": {},
   "source": [
    "As you can see, AlexNet does not work very well on such a small dataset. Recall what you have learned from this class to improve its performance. You can also take a look at the [Dropout technique](https://www.cs.toronto.edu/~hinton/absps/JMLRdropout.pdf) and its [implementation in Keras](https://keras.io/layers/core/#dropout). "
   ]
  },
  {
   "cell_type": "code",
   "execution_count": 49,
   "metadata": {},
   "outputs": [
    {
     "name": "stdout",
     "output_type": "stream",
     "text": [
      "_________________________________________________________________\n",
      "Layer (type)                 Output Shape              Param #   \n",
      "=================================================================\n",
      "lambda_20 (Lambda)           (None, 54, 54, 3)         0         \n",
      "_________________________________________________________________\n",
      "conv2d_96 (Conv2D)           (None, 14, 14, 48)        3648      \n",
      "_________________________________________________________________\n",
      "max_pooling2d_49 (MaxPooling (None, 7, 7, 48)          0         \n",
      "_________________________________________________________________\n",
      "conv2d_97 (Conv2D)           (None, 7, 7, 64)          76864     \n",
      "_________________________________________________________________\n",
      "conv2d_98 (Conv2D)           (None, 7, 7, 96)          55392     \n",
      "_________________________________________________________________\n",
      "conv2d_99 (Conv2D)           (None, 7, 7, 96)          83040     \n",
      "_________________________________________________________________\n",
      "conv2d_100 (Conv2D)          (None, 7, 7, 64)          55360     \n",
      "_________________________________________________________________\n",
      "max_pooling2d_50 (MaxPooling (None, 3, 3, 64)          0         \n",
      "_________________________________________________________________\n",
      "flatten_20 (Flatten)         (None, 576)               0         \n",
      "_________________________________________________________________\n",
      "dense_58 (Dense)             (None, 256)               147712    \n",
      "_________________________________________________________________\n",
      "dense_59 (Dense)             (None, 256)               65792     \n",
      "_________________________________________________________________\n",
      "dropout_3 (Dropout)          (None, 256)               0         \n",
      "_________________________________________________________________\n",
      "dense_60 (Dense)             (None, 10)                2570      \n",
      "=================================================================\n",
      "Total params: 490,378\n",
      "Trainable params: 490,378\n",
      "Non-trainable params: 0\n",
      "_________________________________________________________________\n",
      "None\n"
     ]
    }
   ],
   "source": [
    "dropout_model = Sequential()\n",
    "\n",
    "# Layer 0\n",
    "# resize images to have the same input as in the AlexNet\n",
    "dropout_model.add(Lambda(lambda image: ktf.image.resize_images(image, (54, 54)), input_shape=(32,32,3)))\n",
    "\n",
    "# AlexNet layers description here: https://sushscience.wordpress.com/2016/12/04/understanding-alexnet/\n",
    "# Keras layers docs: https://keras.io/layers/core/\n",
    "\n",
    "# Layer 1\n",
    "dropout_model.add(Conv2D(filters=48, kernel_size=(5,5), strides=4, activation='relu', padding='same'))\n",
    "\n",
    "# Layer 2\n",
    "dropout_model.add(MaxPooling2D(pool_size=(2,2)))\n",
    "dropout_model.add(Conv2D(filters=64, kernel_size=(5,5), activation='relu', padding='same'))\n",
    "\n",
    "# Layer 3\n",
    "# model.add(MaxPooling2D(pool_size=(2,2)))\n",
    "dropout_model.add(Conv2D(filters=96, kernel_size=(3,3), activation='relu', padding='same'))\n",
    "\n",
    "# Layer 4\n",
    "dropout_model.add(Conv2D(filters=96, kernel_size=(3,3), activation='relu', padding='same'))\n",
    "\n",
    "# Layer 5\n",
    "dropout_model.add(Conv2D(filters=64, kernel_size=(3,3), activation='relu', padding='same'))\n",
    "\n",
    "# Layer 6\n",
    "dropout_model.add(MaxPooling2D(pool_size=(2,2)))\n",
    "dropout_model.add(Flatten())\n",
    "dropout_model.add(Dense(256, activation = 'relu'))\n",
    "# dropout_model.add(Dropout(0.2))\n",
    "\n",
    "# Layer 7\n",
    "dropout_model.add(Dense(256, activation = 'relu'))\n",
    "dropout_model.add(Dropout(0.2))\n",
    "\n",
    "# Layer 8\n",
    "dropout_model.add(Dense(10, activation = 'softmax'))\n",
    "\n",
    "print(dropout_model.summary())\n",
    "\n",
    "dropout_model.compile(loss=keras.losses.categorical_crossentropy, optimizer='adam', metrics=['accuracy'])"
   ]
  },
  {
   "cell_type": "code",
   "execution_count": 50,
   "metadata": {
    "scrolled": true
   },
   "outputs": [
    {
     "name": "stdout",
     "output_type": "stream",
     "text": [
      "Train on 50000 samples, validate on 10000 samples\n",
      "Epoch 1/100\n",
      "50000/50000 [==============================] - 61s 1ms/step - loss: 1.7930 - acc: 0.3617 - val_loss: 1.4552 - val_acc: 0.4692\n",
      "Epoch 2/100\n",
      "50000/50000 [==============================] - 59s 1ms/step - loss: 1.4343 - acc: 0.4839 - val_loss: 1.3932 - val_acc: 0.4884\n",
      "Epoch 3/100\n",
      "50000/50000 [==============================] - 60s 1ms/step - loss: 1.3213 - acc: 0.5272 - val_loss: 1.3251 - val_acc: 0.5292\n",
      "Epoch 4/100\n",
      "50000/50000 [==============================] - 59s 1ms/step - loss: 1.2534 - acc: 0.5543 - val_loss: 1.2263 - val_acc: 0.5595\n",
      "Epoch 5/100\n",
      "50000/50000 [==============================] - 60s 1ms/step - loss: 1.1836 - acc: 0.5794 - val_loss: 1.2149 - val_acc: 0.5679\n",
      "Epoch 6/100\n",
      "50000/50000 [==============================] - 60s 1ms/step - loss: 1.1372 - acc: 0.5971 - val_loss: 1.1677 - val_acc: 0.5844\n",
      "Epoch 7/100\n",
      "50000/50000 [==============================] - 61s 1ms/step - loss: 1.0961 - acc: 0.6109 - val_loss: 1.1771 - val_acc: 0.5885\n",
      "Epoch 8/100\n",
      "50000/50000 [==============================] - 58s 1ms/step - loss: 1.0576 - acc: 0.6266 - val_loss: 1.2161 - val_acc: 0.5759\n",
      "Epoch 9/100\n",
      "50000/50000 [==============================] - 61s 1ms/step - loss: 1.0282 - acc: 0.6373 - val_loss: 1.1749 - val_acc: 0.5901\n",
      "Epoch 10/100\n",
      "50000/50000 [==============================] - 59s 1ms/step - loss: 0.9877 - acc: 0.6511 - val_loss: 1.1706 - val_acc: 0.5937\n",
      "Epoch 11/100\n",
      "50000/50000 [==============================] - 57s 1ms/step - loss: 0.9574 - acc: 0.6620 - val_loss: 1.1497 - val_acc: 0.6025\n",
      "Epoch 12/100\n",
      "50000/50000 [==============================] - 58s 1ms/step - loss: 0.9330 - acc: 0.6712 - val_loss: 1.1959 - val_acc: 0.6019\n",
      "Epoch 13/100\n",
      "50000/50000 [==============================] - 59s 1ms/step - loss: 0.9086 - acc: 0.6775 - val_loss: 1.2131 - val_acc: 0.6112\n",
      "Epoch 14/100\n",
      "50000/50000 [==============================] - 59s 1ms/step - loss: 0.8889 - acc: 0.6850 - val_loss: 1.2402 - val_acc: 0.5890\n",
      "Epoch 15/100\n",
      "50000/50000 [==============================] - 63s 1ms/step - loss: 0.8684 - acc: 0.6958 - val_loss: 1.2509 - val_acc: 0.5926\n",
      "Epoch 16/100\n",
      "50000/50000 [==============================] - 60s 1ms/step - loss: 0.8369 - acc: 0.7046 - val_loss: 1.2074 - val_acc: 0.6043\n",
      "Epoch 17/100\n",
      "50000/50000 [==============================] - 61s 1ms/step - loss: 0.8241 - acc: 0.7115 - val_loss: 1.2949 - val_acc: 0.6052\n",
      "Epoch 18/100\n",
      "50000/50000 [==============================] - 61s 1ms/step - loss: 0.8141 - acc: 0.7119 - val_loss: 1.2444 - val_acc: 0.6016\n",
      "Epoch 19/100\n",
      "50000/50000 [==============================] - 60s 1ms/step - loss: 0.7841 - acc: 0.7239 - val_loss: 1.2852 - val_acc: 0.6087\n",
      "Epoch 20/100\n",
      "50000/50000 [==============================] - 65s 1ms/step - loss: 0.7731 - acc: 0.7262 - val_loss: 1.2884 - val_acc: 0.6028\n",
      "Epoch 21/100\n",
      "50000/50000 [==============================] - 65s 1ms/step - loss: 0.7605 - acc: 0.7326 - val_loss: 1.2875 - val_acc: 0.6117\n",
      "Epoch 22/100\n",
      "50000/50000 [==============================] - 62s 1ms/step - loss: 0.7486 - acc: 0.7399 - val_loss: 1.3960 - val_acc: 0.5998\n",
      "Epoch 23/100\n",
      "50000/50000 [==============================] - 61s 1ms/step - loss: 0.7193 - acc: 0.7497 - val_loss: 1.3135 - val_acc: 0.6030\n",
      "Epoch 24/100\n",
      "50000/50000 [==============================] - 60s 1ms/step - loss: 0.7092 - acc: 0.7538 - val_loss: 1.4403 - val_acc: 0.5894\n",
      "Epoch 25/100\n",
      "50000/50000 [==============================] - 64s 1ms/step - loss: 0.7000 - acc: 0.7560 - val_loss: 1.3458 - val_acc: 0.5988\n",
      "Epoch 26/100\n",
      "50000/50000 [==============================] - 65s 1ms/step - loss: 0.6883 - acc: 0.7604 - val_loss: 1.4820 - val_acc: 0.6061\n",
      "Epoch 27/100\n",
      "50000/50000 [==============================] - 65s 1ms/step - loss: 0.6659 - acc: 0.7720 - val_loss: 1.4483 - val_acc: 0.6199\n",
      "Epoch 28/100\n",
      "50000/50000 [==============================] - 60s 1ms/step - loss: 0.6522 - acc: 0.7730 - val_loss: 1.4436 - val_acc: 0.6062\n",
      "Epoch 29/100\n",
      "50000/50000 [==============================] - 57s 1ms/step - loss: 0.6544 - acc: 0.7752 - val_loss: 1.4579 - val_acc: 0.6063\n",
      "Epoch 30/100\n",
      "50000/50000 [==============================] - 57s 1ms/step - loss: 0.6493 - acc: 0.7780 - val_loss: 1.4674 - val_acc: 0.6024\n",
      "Epoch 31/100\n",
      "50000/50000 [==============================] - 63s 1ms/step - loss: 0.6190 - acc: 0.7889 - val_loss: 1.5421 - val_acc: 0.6100\n",
      "Epoch 32/100\n",
      "50000/50000 [==============================] - 62s 1ms/step - loss: 0.6210 - acc: 0.7890 - val_loss: 1.5353 - val_acc: 0.6082\n",
      "Epoch 33/100\n",
      "50000/50000 [==============================] - 61s 1ms/step - loss: 0.6043 - acc: 0.7949 - val_loss: 1.4677 - val_acc: 0.6058\n",
      "Epoch 34/100\n",
      "50000/50000 [==============================] - 56s 1ms/step - loss: 0.5965 - acc: 0.7951 - val_loss: 1.5559 - val_acc: 0.6011\n",
      "Epoch 35/100\n",
      "50000/50000 [==============================] - 55s 1ms/step - loss: 0.5902 - acc: 0.8024 - val_loss: 1.6239 - val_acc: 0.5998\n",
      "Epoch 36/100\n",
      "50000/50000 [==============================] - 55s 1ms/step - loss: 0.5839 - acc: 0.8006 - val_loss: 1.5632 - val_acc: 0.6033\n",
      "Epoch 37/100\n",
      "50000/50000 [==============================] - 52s 1ms/step - loss: 0.5659 - acc: 0.8096 - val_loss: 1.5724 - val_acc: 0.6133\n",
      "Epoch 38/100\n",
      "50000/50000 [==============================] - 57s 1ms/step - loss: 0.5696 - acc: 0.8084 - val_loss: 1.5864 - val_acc: 0.5957\n",
      "Epoch 39/100\n",
      "50000/50000 [==============================] - 55s 1ms/step - loss: 0.5559 - acc: 0.8148 - val_loss: 1.6998 - val_acc: 0.6099\n",
      "Epoch 40/100\n",
      "50000/50000 [==============================] - 55s 1ms/step - loss: 0.5362 - acc: 0.8202 - val_loss: 1.6599 - val_acc: 0.6103\n",
      "Epoch 41/100\n",
      "50000/50000 [==============================] - 57s 1ms/step - loss: 0.5510 - acc: 0.8172 - val_loss: 1.5943 - val_acc: 0.5908\n",
      "Epoch 42/100\n",
      "50000/50000 [==============================] - 55s 1ms/step - loss: 0.5394 - acc: 0.8193 - val_loss: 1.6088 - val_acc: 0.6122\n",
      "Epoch 43/100\n",
      "50000/50000 [==============================] - 53s 1ms/step - loss: 0.5592 - acc: 0.8179 - val_loss: 1.6079 - val_acc: 0.5956\n",
      "Epoch 44/100\n",
      "50000/50000 [==============================] - 55s 1ms/step - loss: 0.5370 - acc: 0.8221 - val_loss: 1.6929 - val_acc: 0.6053\n",
      "Epoch 45/100\n",
      "50000/50000 [==============================] - 56s 1ms/step - loss: 0.5195 - acc: 0.8268 - val_loss: 1.6701 - val_acc: 0.6027\n",
      "Epoch 46/100\n",
      "50000/50000 [==============================] - 56s 1ms/step - loss: 0.5032 - acc: 0.8326 - val_loss: 1.7140 - val_acc: 0.6067\n",
      "Epoch 47/100\n",
      "50000/50000 [==============================] - 57s 1ms/step - loss: 0.4988 - acc: 0.8355 - val_loss: 1.8260 - val_acc: 0.6000\n",
      "Epoch 48/100\n",
      "50000/50000 [==============================] - 74s 1ms/step - loss: 0.4963 - acc: 0.8407 - val_loss: 1.7697 - val_acc: 0.6004\n",
      "Epoch 49/100\n",
      "50000/50000 [==============================] - 73s 1ms/step - loss: 0.5056 - acc: 0.8359 - val_loss: 1.7743 - val_acc: 0.5975\n",
      "Epoch 50/100\n",
      "50000/50000 [==============================] - 91s 2ms/step - loss: 0.5057 - acc: 0.8370 - val_loss: 1.8124 - val_acc: 0.5993\n",
      "Epoch 51/100\n",
      "50000/50000 [==============================] - 96s 2ms/step - loss: 0.4863 - acc: 0.8431 - val_loss: 1.7908 - val_acc: 0.6021\n",
      "Epoch 52/100\n",
      "50000/50000 [==============================] - 95s 2ms/step - loss: 0.4878 - acc: 0.8432 - val_loss: 1.8469 - val_acc: 0.6075\n",
      "Epoch 53/100\n",
      "50000/50000 [==============================] - 98s 2ms/step - loss: 0.4825 - acc: 0.8466 - val_loss: 1.7047 - val_acc: 0.5951\n",
      "Epoch 54/100\n",
      "50000/50000 [==============================] - 2680s 54ms/step - loss: 0.4599 - acc: 0.8537 - val_loss: 1.7947 - val_acc: 0.6050\n",
      "Epoch 55/100\n",
      "50000/50000 [==============================] - 57s 1ms/step - loss: 0.4607 - acc: 0.8506 - val_loss: 1.7864 - val_acc: 0.5984\n",
      "Epoch 56/100\n",
      "50000/50000 [==============================] - 55s 1ms/step - loss: 0.4640 - acc: 0.8530 - val_loss: 1.7758 - val_acc: 0.6013\n",
      "Epoch 57/100\n",
      "50000/50000 [==============================] - 53s 1ms/step - loss: 0.4518 - acc: 0.8570 - val_loss: 1.9298 - val_acc: 0.5918\n",
      "Epoch 58/100\n",
      "50000/50000 [==============================] - 52s 1ms/step - loss: 0.4564 - acc: 0.8558 - val_loss: 1.8824 - val_acc: 0.6002\n",
      "Epoch 59/100\n"
     ]
    },
    {
     "name": "stdout",
     "output_type": "stream",
     "text": [
      "50000/50000 [==============================] - 53s 1ms/step - loss: 0.4578 - acc: 0.8534 - val_loss: 1.9730 - val_acc: 0.5959\n",
      "Epoch 60/100\n",
      "50000/50000 [==============================] - 53s 1ms/step - loss: 0.4506 - acc: 0.8571 - val_loss: 1.8886 - val_acc: 0.5957\n",
      "Epoch 61/100\n",
      "50000/50000 [==============================] - 54s 1ms/step - loss: 0.4339 - acc: 0.8629 - val_loss: 2.0158 - val_acc: 0.5975\n",
      "Epoch 62/100\n",
      "50000/50000 [==============================] - 53s 1ms/step - loss: 0.4656 - acc: 0.8545 - val_loss: 1.9233 - val_acc: 0.6050\n",
      "Epoch 63/100\n",
      "50000/50000 [==============================] - 51s 1ms/step - loss: 0.4385 - acc: 0.8625 - val_loss: 1.9096 - val_acc: 0.6022\n",
      "Epoch 64/100\n",
      "50000/50000 [==============================] - 51s 1ms/step - loss: 0.4548 - acc: 0.8594 - val_loss: 2.0304 - val_acc: 0.6035\n",
      "Epoch 65/100\n",
      "50000/50000 [==============================] - 52s 1ms/step - loss: 0.4750 - acc: 0.8521 - val_loss: 1.9239 - val_acc: 0.5965\n",
      "Epoch 66/100\n",
      "50000/50000 [==============================] - 52s 1ms/step - loss: 0.4394 - acc: 0.8618 - val_loss: 1.9778 - val_acc: 0.6072\n",
      "Epoch 67/100\n",
      "50000/50000 [==============================] - 52s 1ms/step - loss: 0.4350 - acc: 0.8667 - val_loss: 1.7833 - val_acc: 0.5926\n",
      "Epoch 68/100\n",
      "50000/50000 [==============================] - 51s 1ms/step - loss: 0.4323 - acc: 0.8648 - val_loss: 1.9448 - val_acc: 0.5982\n",
      "Epoch 69/100\n",
      "50000/50000 [==============================] - 49s 985us/step - loss: 0.4379 - acc: 0.8658 - val_loss: 2.0512 - val_acc: 0.5996\n",
      "Epoch 70/100\n",
      "50000/50000 [==============================] - 49s 975us/step - loss: 0.4248 - acc: 0.8685 - val_loss: 2.0915 - val_acc: 0.5936\n",
      "Epoch 71/100\n",
      "50000/50000 [==============================] - 49s 986us/step - loss: 0.3952 - acc: 0.8775 - val_loss: 2.0402 - val_acc: 0.6067\n",
      "Epoch 72/100\n",
      "50000/50000 [==============================] - 49s 974us/step - loss: 0.4401 - acc: 0.8666 - val_loss: 2.0085 - val_acc: 0.5998\n",
      "Epoch 73/100\n",
      "50000/50000 [==============================] - 49s 979us/step - loss: 0.4375 - acc: 0.8673 - val_loss: 2.0725 - val_acc: 0.6036\n",
      "Epoch 74/100\n",
      "50000/50000 [==============================] - 49s 976us/step - loss: 0.4032 - acc: 0.8787 - val_loss: 2.1381 - val_acc: 0.5950\n",
      "Epoch 75/100\n",
      "50000/50000 [==============================] - 49s 976us/step - loss: 0.4385 - acc: 0.8686 - val_loss: 2.0900 - val_acc: 0.5997\n",
      "Epoch 76/100\n",
      "50000/50000 [==============================] - 52s 1ms/step - loss: 0.4165 - acc: 0.8725 - val_loss: 1.9675 - val_acc: 0.6031\n",
      "Epoch 77/100\n",
      "50000/50000 [==============================] - 60s 1ms/step - loss: 0.4739 - acc: 0.8557 - val_loss: 1.9335 - val_acc: 0.5971\n",
      "Epoch 78/100\n",
      "50000/50000 [==============================] - 54s 1ms/step - loss: 0.4350 - acc: 0.8669 - val_loss: 2.0209 - val_acc: 0.6020\n",
      "Epoch 79/100\n",
      "50000/50000 [==============================] - 55s 1ms/step - loss: 0.4058 - acc: 0.8781 - val_loss: 2.3155 - val_acc: 0.5945\n",
      "Epoch 80/100\n",
      "50000/50000 [==============================] - 51s 1ms/step - loss: 0.4744 - acc: 0.8584 - val_loss: 1.9531 - val_acc: 0.6073\n",
      "Epoch 81/100\n",
      "50000/50000 [==============================] - 52s 1ms/step - loss: 0.4168 - acc: 0.8746 - val_loss: 2.2034 - val_acc: 0.6039\n",
      "Epoch 82/100\n",
      "50000/50000 [==============================] - 57s 1ms/step - loss: 0.4401 - acc: 0.8691 - val_loss: 2.0594 - val_acc: 0.5991\n",
      "Epoch 83/100\n",
      "50000/50000 [==============================] - 58s 1ms/step - loss: 0.4273 - acc: 0.8721 - val_loss: 2.2716 - val_acc: 0.6086\n",
      "Epoch 84/100\n",
      "50000/50000 [==============================] - 56s 1ms/step - loss: 0.4145 - acc: 0.8750 - val_loss: 2.1954 - val_acc: 0.6046\n",
      "Epoch 85/100\n",
      "50000/50000 [==============================] - 53s 1ms/step - loss: 0.3990 - acc: 0.8803 - val_loss: 2.2881 - val_acc: 0.6031\n",
      "Epoch 86/100\n",
      "50000/50000 [==============================] - 52s 1ms/step - loss: 0.3824 - acc: 0.8874 - val_loss: 2.0770 - val_acc: 0.5672\n",
      "Epoch 87/100\n",
      "50000/50000 [==============================] - 52s 1ms/step - loss: 0.5065 - acc: 0.8492 - val_loss: 2.3142 - val_acc: 0.6045\n",
      "Epoch 88/100\n",
      "50000/50000 [==============================] - 53s 1ms/step - loss: 0.4260 - acc: 0.8741 - val_loss: 2.2175 - val_acc: 0.5864\n",
      "Epoch 89/100\n",
      "50000/50000 [==============================] - 54s 1ms/step - loss: 0.4479 - acc: 0.8683 - val_loss: 2.2041 - val_acc: 0.5739\n",
      "Epoch 90/100\n",
      "50000/50000 [==============================] - 52s 1ms/step - loss: 0.4071 - acc: 0.8773 - val_loss: 2.2946 - val_acc: 0.5935\n",
      "Epoch 91/100\n",
      "50000/50000 [==============================] - 51s 1ms/step - loss: 0.4773 - acc: 0.8602 - val_loss: 2.2143 - val_acc: 0.5948\n",
      "Epoch 92/100\n",
      "50000/50000 [==============================] - 55s 1ms/step - loss: 0.4257 - acc: 0.8770 - val_loss: 2.2630 - val_acc: 0.5953\n",
      "Epoch 93/100\n",
      "50000/50000 [==============================] - 56s 1ms/step - loss: 0.3947 - acc: 0.8848 - val_loss: 2.2805 - val_acc: 0.5970\n",
      "Epoch 94/100\n",
      "50000/50000 [==============================] - 56s 1ms/step - loss: 0.4633 - acc: 0.8634 - val_loss: 2.3241 - val_acc: 0.5998\n",
      "Epoch 95/100\n",
      "50000/50000 [==============================] - 57s 1ms/step - loss: 0.4310 - acc: 0.8764 - val_loss: 2.0227 - val_acc: 0.5920\n",
      "Epoch 96/100\n",
      "50000/50000 [==============================] - 55s 1ms/step - loss: 0.4289 - acc: 0.8743 - val_loss: 2.3327 - val_acc: 0.5977\n",
      "Epoch 97/100\n",
      "50000/50000 [==============================] - 51s 1ms/step - loss: 0.4123 - acc: 0.8805 - val_loss: 2.2828 - val_acc: 0.5963\n",
      "Epoch 98/100\n",
      "50000/50000 [==============================] - 55s 1ms/step - loss: 0.4993 - acc: 0.8577 - val_loss: 2.1528 - val_acc: 0.6030\n",
      "Epoch 99/100\n",
      "50000/50000 [==============================] - 54s 1ms/step - loss: 0.4474 - acc: 0.8692 - val_loss: 2.0674 - val_acc: 0.5943\n",
      "Epoch 100/100\n",
      "50000/50000 [==============================] - 53s 1ms/step - loss: 0.4862 - acc: 0.8565 - val_loss: 1.8976 - val_acc: 0.5714\n"
     ]
    },
    {
     "data": {
      "text/plain": [
       "<keras.callbacks.History at 0x14d7029b0>"
      ]
     },
     "execution_count": 50,
     "metadata": {},
     "output_type": "execute_result"
    }
   ],
   "source": [
    "dropout_model.fit(train_images, train_labels, batch_size=64, epochs=100, initial_epoch=0, verbose=1, validation_data=(cv_images, cv_labels))"
   ]
  },
  {
   "cell_type": "code",
   "execution_count": 53,
   "metadata": {},
   "outputs": [
    {
     "name": "stdout",
     "output_type": "stream",
     "text": [
      "Saved dropout_model to disk\n"
     ]
    }
   ],
   "source": [
    "save_model(dropout_model, 'dropout_model')"
   ]
  },
  {
   "cell_type": "markdown",
   "metadata": {},
   "source": [
    "### Summary\n",
    "The best accuracy on the test set is 0.6199 (epoch 27)."
   ]
  }
 ],
 "metadata": {
  "kernelspec": {
   "display_name": "Python 3",
   "language": "python",
   "name": "python3"
  },
  "language_info": {
   "codemirror_mode": {
    "name": "ipython",
    "version": 3
   },
   "file_extension": ".py",
   "mimetype": "text/x-python",
   "name": "python",
   "nbconvert_exporter": "python",
   "pygments_lexer": "ipython3",
   "version": "3.6.8"
  }
 },
 "nbformat": 4,
 "nbformat_minor": 2
}
